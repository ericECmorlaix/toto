{
 "cells": [
  {
   "cell_type": "markdown",
   "metadata": {},
   "source": [
    "- ## Jupyter\n",
    "    - [Introduction-au-notebook-jupyter](http://blog.smile.fr/Introduction-au-notebook-jupyter)\n",
    "    - [debuter-avec-les-notebooks](http://dichotomies.fr/2015/informatique/info1/cours/debuter-avec-les-notebooks/)\n",
    "    - [https://www.datacamp.com/community/tutorials/tutorial-jupyter-notebook#gs.IYhWSpU] (https://www.datacamp.com/community/tutorials/tutorial-jupyter-notebook#gs.IYhWSpU)\n",
    "    - https://www.dataquest.io/blog/jupyter-notebook-tips-tricks-shortcuts/\n",
    "    - [Une Mine : Jupyter Project at Bryn Mawr College](https://jupyter.brynmawr.edu/services/public/dblank/jupyter.cs)\n",
    "- ## Python\n",
    "    - ### En général\n",
    "        - #### ISN-ICN- Informatique en lycée\n",
    "            - [Site cours d'ISN Frédéric Sincere](http://fsincere.free.fr/isn/python/cours_python.php)\n",
    "            - [Dépot debimax cours d'ISN](https://github.com/debimax)\n",
    "            - [Site MegaMaths cours d'ISN ](http://megamaths.free.fr/spip/)\n",
    "        - #### Autres\n",
    "            - [perso.telecom-paristech.fr-Intro-Python.pdf](http://perso.telecom-paristech.fr/~gramfort/liesse_python/1-Intro-Python.pdf)\n",
    "\n",
    "    - ### Matplotlib\n",
    "        - [/jrjohansson/scientific-python-lectures/Lecture-4-Matplotlib.ipynb](http://nbviewer.jupyter.org/github/jrjohansson/scientific-python-lectures/blob/master/Lecture-4-Matplotlib.ipynb)\n",
    "    - ### Data Science\n",
    "        - [PythonDataScienceHandbook](https://github.com/jakevdp/PythonDataScienceHandbook)\n",
    "        - #### Machine Learning\n",
    "            - \n",
    "    - ### Turtle\n",
    "        - https://zestedesavoir.com/tutoriels/944/a-la-decouverte-de-turtle/\n",
    "\n",
    "    - ### PyGame\n",
    "        - https://zestedesavoir.com/tutoriels/846/pygame-pour-les-zesteurs/\n",
    "\n",
    "- ## Latex\n",
    "    - https://zestedesavoir.com/tutoriels/826/introduction-a-latex/\n"
   ]
  },
  {
   "cell_type": "code",
   "execution_count": null,
   "metadata": {
    "collapsed": true
   },
   "outputs": [],
   "source": []
  }
 ],
 "metadata": {
  "kernelspec": {
   "display_name": "Python 3",
   "language": "python",
   "name": "python3"
  },
  "language_info": {
   "codemirror_mode": {
    "name": "ipython",
    "version": 3
   },
   "file_extension": ".py",
   "mimetype": "text/x-python",
   "name": "python",
   "nbconvert_exporter": "python",
   "pygments_lexer": "ipython3",
   "version": "3.6.1"
  }
 },
 "nbformat": 4,
 "nbformat_minor": 2
}
