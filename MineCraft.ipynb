{
 "cells": [
  {
   "cell_type": "markdown",
   "metadata": {},
   "source": [
    "* https://ngcm.github.io/PythonTool-Mod//\n",
    "* http://www.instructables.com/id/Interactive-Python-Programming-for-Minecraft-Pytho/\n",
    "* https://ngcm.github.io/PythonTool-Mod/installation/\n",
    "* https://github.com/gritcoding/minecraft\n",
    "* https://github.com/CoderDojoTC/python-minecraft"
   ]
  },
  {
   "cell_type": "code",
   "execution_count": null,
   "metadata": {
    "collapsed": true
   },
   "outputs": [],
   "source": []
  }
 ],
 "metadata": {
  "kernelspec": {
   "display_name": "Python 3",
   "language": "python",
   "name": "python3"
  },
  "language_info": {
   "codemirror_mode": {
    "name": "ipython",
    "version": 3
   },
   "file_extension": ".py",
   "mimetype": "text/x-python",
   "name": "python",
   "nbconvert_exporter": "python",
   "pygments_lexer": "ipython3",
   "version": "3.6.1"
  }
 },
 "nbformat": 4,
 "nbformat_minor": 2
}
