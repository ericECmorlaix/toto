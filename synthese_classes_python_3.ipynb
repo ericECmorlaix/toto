{
 "cells": [
  {
   "cell_type": "markdown",
   "metadata": {},
   "source": [
    "![Institut Cardinal Mercier](https://raw.githubusercontent.com/lecoinduprogrammeur/medias/master/icm.png)",
    "\n",
    "Professeur : Fabrice Dumont\n",
    "\n",
    "Institut Cardinal Mercier de Schaerbeek\n",
    "\n",
    "Classes de 5 & 6 TT Informatique\n",
    "\n",
    "*tutoriel réalisé sous jupyter ipython notebook en MARKDOWN et PYTHON 3*"
   ]
  },
  {
   "cell_type": "markdown",
   "metadata": {},
   "source": [
    "<H1 style=\"text-align:center\";>Les classes en langage de programmation orienté objet PYTHON</H1>"
   ]
  },
  {
   "cell_type": "markdown",
   "metadata": {},
   "source": [
    "## 1. Créer une classe"
   ]
  },
  {
   "cell_type": "code",
   "execution_count": 1,
   "metadata": {
    "collapsed": true
   },
   "outputs": [],
   "source": [
    "\"\"\"\n",
    "Classe servant à calculer l'aire d'un rectangle\n",
    "\"\"\"\n",
    "\n",
    "class Exemple (object):\n",
    "    \n",
    "    def __init__ (self):\n",
    "        self.longueur = 25\n",
    "        self.largeur = 12\n",
    "        \n",
    "    def aire (self):\n",
    "        print (\"L'aire de ce rectangle est de \", self.longueur,\"X\",self.largeur,\"=\",self.longueur*self.largeur)"
   ]
  },
  {
   "cell_type": "markdown",
   "metadata": {},
   "source": [
    "### def \\__init__ (self) :\n",
    "constructeur de la classe\n",
    "\n",
    "**self** fait référence à l'objet qui sera créé lors de l'exécution.\n",
    "\n",
    "Nous allons créer, instancier un objet de la classe Exemple (), **forme**\n",
    "### def aire (self) :\n",
    "méthode de la classe\n",
    "\n",
   "![Image of Yaktocat](https://raw.githubusercontent.com/lecoinduprogrammeur/medias/master/attention.png)",
    "\n",
    "> ### Une classe déclare des propriétés communes à un ensemble d'objets. La classe déclare des attributs représentant l'état des objets et des méthodes représentant leur comportement.\n"
   ]
  },
  {
   "cell_type": "code",
   "execution_count": 2,
   "metadata": {
    "collapsed": false
   },
   "outputs": [],
   "source": [
    "forme = Exemple ()"
   ]
  },
  {
   "cell_type": "markdown",
   "metadata": {},
   "source": [
    "**forme** est un **objet** de la classe Exemple ()"
   ]
  },
  {
   "cell_type": "code",
   "execution_count": 3,
   "metadata": {
    "collapsed": false
   },
   "outputs": [
    {
     "data": {
      "text/plain": [
       "25"
      ]
     },
     "execution_count": 3,
     "metadata": {},
     "output_type": "execute_result"
    }
   ],
   "source": [
    "forme.longueur"
   ]
  },
  {
   "cell_type": "markdown",
   "metadata": {},
   "source": [
    "**longueur** est un **attribut** de l'objet **forme** de la classe Exemple ()"
   ]
  },
  {
   "cell_type": "code",
   "execution_count": 4,
   "metadata": {
    "collapsed": false
   },
   "outputs": [
    {
     "data": {
      "text/plain": [
       "12"
      ]
     },
     "execution_count": 4,
     "metadata": {},
     "output_type": "execute_result"
    }
   ],
   "source": [
    "forme.largeur "
   ]
  },
  {
   "cell_type": "markdown",
   "metadata": {},
   "source": [
    "**largeur** est un **attribut** de l'objet **forme** de la classe Exemple ()"
   ]
  },
  {
   "cell_type": "code",
   "execution_count": 5,
   "metadata": {
    "collapsed": false
   },
   "outputs": [
    {
     "name": "stdout",
     "output_type": "stream",
     "text": [
      "L'aire de ce rectangle est de  25 X 12 = 300\n"
     ]
    }
   ],
   "source": [
    "forme.aire ()"
   ]
  },
  {
   "cell_type": "markdown",
   "metadata": {},
   "source": [
    "**aire ()** est une **méthode** de l'objet **forme** de la classe Exemple ()"
   ]
  },
  {
   "cell_type": "markdown",
   "metadata": {},
   "source": [
    "### Ajout de deux paramètres dans le constructeur"
   ]
  },
  {
   "cell_type": "code",
   "execution_count": 6,
   "metadata": {
    "collapsed": true
   },
   "outputs": [],
   "source": [
    "class Exemple2 (object):\n",
    "    \n",
    "    def __init__ (self, long,larg):\n",
    "        self.longueur = long\n",
    "        self.largeur = larg\n",
    "        \n",
    "    def aire (self):\n",
    "        print (\"L'aire de ce rectangle est de \", self.longueur,\"X\",self.largeur,\"=\",self.longueur*self.largeur)"
   ]
  },
  {
   "cell_type": "markdown",
   "metadata": {},
   "source": [
    "### def \\__init__ (self, long,larg):\n",
    "nous avons introduit deux arguments ou paramètres dans le constructeur de cette classe afin de définir les valeurs des deux attibuts de l'objet **forme2** de la classe **Exemple2 ()**\n",
    "\n",
    "La valeur de **long** sera la valeur de **self.longueur** et la valeur de **larg** sera la valeur de **self.largeur**"
   ]
  },
  {
   "cell_type": "code",
   "execution_count": 7,
   "metadata": {
    "collapsed": true
   },
   "outputs": [],
   "source": [
    "forme2 = Exemple2 (26,13)"
   ]
  },
  {
   "cell_type": "code",
   "execution_count": 8,
   "metadata": {
    "collapsed": false
   },
   "outputs": [
    {
     "data": {
      "text/plain": [
       "26"
      ]
     },
     "execution_count": 8,
     "metadata": {},
     "output_type": "execute_result"
    }
   ],
   "source": [
    "forme2.longueur"
   ]
  },
  {
   "cell_type": "code",
   "execution_count": 9,
   "metadata": {
    "collapsed": false
   },
   "outputs": [
    {
     "data": {
      "text/plain": [
       "13"
      ]
     },
     "execution_count": 9,
     "metadata": {},
     "output_type": "execute_result"
    }
   ],
   "source": [
    "forme2.largeur "
   ]
  },
  {
   "cell_type": "code",
   "execution_count": 10,
   "metadata": {
    "collapsed": false
   },
   "outputs": [
    {
     "name": "stdout",
     "output_type": "stream",
     "text": [
      "L'aire de ce rectangle est de  26 X 13 = 338\n"
     ]
    }
   ],
   "source": [
    "forme2.aire ()"
   ]
  },
  {
   "cell_type": "markdown",
   "metadata": {},
   "source": [
    "### Ajout de deux paramètres dans le constructeur avec valeurs par défaut"
   ]
  },
  {
   "cell_type": "code",
   "execution_count": 11,
   "metadata": {
    "collapsed": true
   },
   "outputs": [],
   "source": [
    "class Exemple3 (object):\n",
    "    \n",
    "    def __init__ (self, long=45,larg=23):\n",
    "        self.longueur = long\n",
    "        self.largeur = larg\n",
    "        \n",
    "    def aire (self):\n",
    "        print (\"L'aire de ce rectangle est de \", self.longueur,\"X\",self.largeur,\"=\",self.longueur*self.largeur)"
   ]
  },
  {
   "cell_type": "code",
   "execution_count": 12,
   "metadata": {
    "collapsed": true
   },
   "outputs": [],
   "source": [
    "forme3 = Exemple3 ()"
   ]
  },
  {
   "cell_type": "code",
   "execution_count": 13,
   "metadata": {
    "collapsed": false
   },
   "outputs": [
    {
     "name": "stdout",
     "output_type": "stream",
     "text": [
      "L'aire de ce rectangle est de  45 X 23 = 1035\n"
     ]
    }
   ],
   "source": [
    "forme3.aire ()"
   ]
  },
  {
   "cell_type": "markdown",
   "metadata": {},
   "source": [
    "### Les valeurs par défaut peuvent être remplacées"
   ]
  },
  {
   "cell_type": "code",
   "execution_count": 14,
   "metadata": {
    "collapsed": true
   },
   "outputs": [],
   "source": [
    "forme3 = Exemple3 (48,24)"
   ]
  },
  {
   "cell_type": "code",
   "execution_count": 15,
   "metadata": {
    "collapsed": false
   },
   "outputs": [
    {
     "name": "stdout",
     "output_type": "stream",
     "text": [
      "L'aire de ce rectangle est de  48 X 24 = 1152\n"
     ]
    }
   ],
   "source": [
    "forme3.aire ()"
   ]
  },
  {
   "cell_type": "markdown",
   "metadata": {},
   "source": [
    "### petite variante extrêmement drôle"
   ]
  },
  {
   "cell_type": "code",
   "execution_count": 16,
   "metadata": {
    "collapsed": false
   },
   "outputs": [],
   "source": [
    "forme2 = Exemple2 (26,\"_lettres\") "
   ]
  },
  {
   "cell_type": "code",
   "execution_count": 17,
   "metadata": {
    "collapsed": false
   },
   "outputs": [
    {
     "name": "stdout",
     "output_type": "stream",
     "text": [
      "L'aire de ce rectangle est de  26 X _lettres = _lettres_lettres_lettres_lettres_lettres_lettres_lettres_lettres_lettres_lettres_lettres_lettres_lettres_lettres_lettres_lettres_lettres_lettres_lettres_lettres_lettres_lettres_lettres_lettres_lettres_lettres\n"
     ]
    }
   ],
   "source": [
    "forme2.aire ()"
   ]
  },
  {
   "cell_type": "markdown",
   "metadata": {},
   "source": [
    "## 2. procédure d'appel et de chargement en mémoire d'une classe écrite dans un script vers le programme principal"
   ]
  },
  {
   "cell_type": "markdown",
   "metadata": {},
   "source": [
    "### Considérons tout d'abord le script où a été écrite notre classe :"
   ]
  },
  {
   "cell_type": "code",
   "execution_count": 18,
   "metadata": {
    "collapsed": false
   },
   "outputs": [
    {
     "name": "stdout",
     "output_type": "stream",
     "text": [
      "Overwriting script_exemple3.py\n"
     ]
    }
   ],
   "source": [
    "%%writefile script_exemple3.py\n",
    "# commande jupyter ipython pour écrire le script\n",
    "\n",
    "class Exemple3 (object):\n",
    "    \n",
    "    def __init__ (self, long,larg):\n",
    "        self.longueur = long\n",
    "        self.largeur = larg\n",
    "        \n",
    "    def aire (self):\n",
    "        print (\"L'aire de ce rectangle est de \", self.longueur,\"X\",self.largeur,\"=\",self.longueur*self.largeur)"
   ]
  },
  {
   "cell_type": "markdown",
   "metadata": {},
   "source": [
    "### A l'exécution, dans un autre script, nous devons importer la classe _Exemple3_ qui se trouve évidemment dans le même dossier"
   ]
  },
  {
   "cell_type": "code",
   "execution_count": 19,
   "metadata": {
    "collapsed": false
   },
   "outputs": [
    {
     "name": "stdout",
     "output_type": "stream",
     "text": [
      "L'aire de ce rectangle est de  54 X 35 = 1890\n"
     ]
    }
   ],
   "source": [
    "from script_exemple3 import Exemple3\n",
    "forme = Exemple3 (54,35)\n",
    "forme.aire ()"
   ]
  },
  {
   "cell_type": "markdown",
   "metadata": {
    "collapsed": true
   },
   "source": [
    "## 3. Les attributs de classe statiques (!= des attributs d'objets)"
   ]
  },
  {
   "cell_type": "code",
   "execution_count": 20,
   "metadata": {
    "collapsed": false
   },
   "outputs": [
    {
     "name": "stdout",
     "output_type": "stream",
     "text": [
      "2 de Trèfle\n"
     ]
    }
   ],
   "source": [
    "class Carte_a_jouer ():\n",
    "    valeurs = (None, None, 2, 3, 4, 5, 6, 7, 8, 9, 10, \"Valet\", \"Dame\", \"Roi\", \"As\")\n",
    "    couleurs = (\"Coeur\",\"Carreau\",\"Trèfle\",\"Pique\")\n",
    "    # None : Déclaration de la valeur sans valeur, les cartes 0 et 1 n'existant pas\n",
    "    # les attributs statiques \"valeurs\" et \"couleurs\" sont déclarés à l'extérieur du constructeur\n",
    "    # ils ne sont pas des attributs d'objet mais des attributs de classe !!!!!!!\n",
    "    \n",
    "    def __init__ (self,val,coul):\n",
    "        self.valeur = val\n",
    "        self.couleur = coul\n",
    "        \n",
    "    def affiche_carte (self):\n",
    "        print (Carte_a_jouer.valeurs[self.valeur], \"de\", Carte_a_jouer.couleurs[self.couleur])\n",
    "        \n",
    "if __name__ == \"__main__\":\n",
    "    carte = Carte_a_jouer (2,2)\n",
    "    carte.affiche_carte ()"
   ]
  },
  {
   "cell_type": "markdown",
   "metadata": {},
   "source": [
    "**if \\__name\\__ == \"\\__main\\__\":**\n",
    "\n",
    "le programme s'exécute directement, **main** signifiant principal, donc \"programme principal\""
   ]
  },
  {
   "cell_type": "markdown",
   "metadata": {},
   "source": [
    "### Petite variante avec la fonction input ()"
   ]
  },
  {
   "cell_type": "code",
   "execution_count": 21,
   "metadata": {
    "collapsed": false
   },
   "outputs": [
    {
     "name": "stdout",
     "output_type": "stream",
     "text": [
      "\n",
      "Valeurs pour une carte : 2 : 2, 3 : 3, 4 : 4, 5 : 5, 6 : 6,\n",
      "                         7 : 7, 8 : 8, 9 : 9, 10 : 10 ,\n",
      "                         11 : Valet, 12 : Dame, 13 : Roi, 14 : As\n",
      "                        \n",
      "\n",
      "Couleurs pour une carte : 0 : Coeur, 1 : Carreau, 2 : Trèfle, 3 : Pique\n",
      "\n",
      "Valeur de la carte : 12\n",
      "Couleur de la carte : 2\n",
      "Dame de Trèfle est la carte que vous avez choisie\n"
     ]
    }
   ],
   "source": [
    "class Carte_a_jouer ():\n",
    "    valeurs = (None, None, 2, 3, 4, 5, 6, 7, 8, 9, 10, \"Valet\", \"Dame\", \"Roi\", \"As\")\n",
    "    couleurs = (\"Coeur\",\"Carreau\",\"Trèfle\",\"Pique\")\n",
    "    # None : Déclaration de la valeur sans valeur, les cartes 0 et 1 n'existant pas\n",
    "    # les attributs statiques sont déclarés à l'extérieur du constructeur\n",
    "    \n",
    "    def __init__ (self,val,coul):\n",
    "        self.valeur = val\n",
    "        self.couleur = coul\n",
    "        \n",
    "    def affiche_carte (self):\n",
    "        print (Carte_a_jouer.valeurs[self.valeur], \"de\", Carte_a_jouer.couleurs[self.couleur],\\\n",
    "               \"est la carte que vous avez choisie\")\n",
    "        \n",
    "if __name__ == \"__main__\":\n",
    "    print (\"\"\"\n",
    "Valeurs pour une carte : 2 : 2, 3 : 3, 4 : 4, 5 : 5, 6 : 6,\n",
    "                         7 : 7, 8 : 8, 9 : 9, 10 : 10 ,\n",
    "                         11 : Valet, 12 : Dame, 13 : Roi, 14 : As\n",
    "                        \"\"\")\n",
    "    print (\"\"\"\n",
    "Couleurs pour une carte : 0 : Coeur, 1 : Carreau, 2 : Trèfle, 3 : Pique\n",
    "\"\"\")\n",
    "    carte = Carte_a_jouer (val = int(input (\"Valeur de la carte : \")),coul = int(input (\"Couleur de la carte : \")))\n",
    "    carte.affiche_carte ()"
   ]
  },
  {
   "cell_type": "markdown",
   "metadata": {},
   "source": [
    "## 4. Classe mère & classe fille - Héritage"
   ]
  },
  {
   "cell_type": "code",
   "execution_count": 22,
   "metadata": {
    "collapsed": false
   },
   "outputs": [],
   "source": [
    "import string\n",
    "class Alphabet_majuscules (object):\n",
    "    # classe mère\n",
    "    def __init__(self):\n",
    "        self.lettres = string.ascii_uppercase\n",
    "        # équivalent à une chaîne reprenant tout l'alphabet avec la méthode upper ()\n",
    "        \n",
    "class Alphabet_minuscules (Alphabet_majuscules):\n",
    "    # classe fille\n",
    "    def __init__(self):\n",
    "        Alphabet_majuscules.__init__(self)\n",
    "        self.lettres = self.lettres.lower ()\n",
    "              \n",
    "            \n",
    "        \n",
    "        "
   ]
  },
  {
   "cell_type": "code",
   "execution_count": 23,
   "metadata": {
    "collapsed": false
   },
   "outputs": [
    {
     "data": {
      "text/plain": [
       "'ABCDEFGHIJKLMNOPQRSTUVWXYZ'"
      ]
     },
     "execution_count": 23,
     "metadata": {},
     "output_type": "execute_result"
    }
   ],
   "source": [
    "s = Alphabet_majuscules ()\n",
    "s.lettres"
   ]
  },
  {
   "cell_type": "code",
   "execution_count": 24,
   "metadata": {
    "collapsed": false
   },
   "outputs": [
    {
     "data": {
      "text/plain": [
       "'abcdefghijklmnopqrstuvwxyz'"
      ]
     },
     "execution_count": 24,
     "metadata": {},
     "output_type": "execute_result"
    }
   ],
   "source": [
    "t = Alphabet_minuscules ()\n",
    "t.lettres"
   ]
  },
  {
   "cell_type": "markdown",
   "metadata": {},
   "source": [
    "### Classe mère, fille et petite-fille"
   ]
  },
  {
   "cell_type": "code",
   "execution_count": 25,
   "metadata": {
    "collapsed": true
   },
   "outputs": [],
   "source": [
    "import string\n",
    "\n",
    "class Alphabet_majuscules (object):\n",
    "    # classe mère\n",
    "    def __init__(self):\n",
    "        self.lettres = string.ascii_uppercase\n",
    "        # équivalent à une chaîne reprenant tout l'alphabet en minuscules avec la méthode upper ()\n",
    "        # ou plus simplement une chaîne avec tout l'alphabet en majuscules\n",
    "        \n",
    "class Alphabet_minuscules (Alphabet_majuscules):\n",
    "    # classe fille\n",
    "    def __init__(self):\n",
    "        Alphabet_majuscules.__init__(self)\n",
    "        self.lettres = self.lettres.lower ()\n",
    "        \n",
    "class Alphabet_tri (Alphabet_minuscules):\n",
    "    # classe petite-fille\n",
    "    def __init__(self):\n",
    "        Alphabet_minuscules.__init__(self)\n",
    "        self.voyelles = []\n",
    "        self.consonnes = []\n",
    "        for lettre in self.lettres :\n",
    "            if lettre in \"aeiouy\":\n",
    "                self.voyelles.append (lettre)\n",
    "            else :\n",
    "                self.consonnes.append (lettre)\n",
    "                \n",
    "    def listes_vers_chaines (self) :\n",
    "        self.voyelles_chaine = \"\".join (self.voyelles)\n",
    "        self.consonnes_chaine = \"\".join (self.consonnes)\n",
    "        \n",
    "                "
   ]
  },
  {
   "cell_type": "code",
   "execution_count": 26,
   "metadata": {
    "collapsed": false
   },
   "outputs": [
    {
     "data": {
      "text/plain": [
       "'ABCDEFGHIJKLMNOPQRSTUVWXYZ'"
      ]
     },
     "execution_count": 26,
     "metadata": {},
     "output_type": "execute_result"
    }
   ],
   "source": [
    "s = Alphabet_majuscules ()\n",
    "s.lettres"
   ]
  },
  {
   "cell_type": "code",
   "execution_count": 27,
   "metadata": {
    "collapsed": false
   },
   "outputs": [
    {
     "data": {
      "text/plain": [
       "'abcdefghijklmnopqrstuvwxyz'"
      ]
     },
     "execution_count": 27,
     "metadata": {},
     "output_type": "execute_result"
    }
   ],
   "source": [
    "t = Alphabet_minuscules ()\n",
    "t.lettres"
   ]
  },
  {
   "cell_type": "code",
   "execution_count": 28,
   "metadata": {
    "collapsed": false
   },
   "outputs": [
    {
     "data": {
      "text/plain": [
       "'abcdefghijklmnopqrstuvwxyz'"
      ]
     },
     "execution_count": 28,
     "metadata": {},
     "output_type": "execute_result"
    }
   ],
   "source": [
    "u = Alphabet_tri ()\n",
    "u.lettres"
   ]
  },
  {
   "cell_type": "code",
   "execution_count": 29,
   "metadata": {
    "collapsed": false
   },
   "outputs": [
    {
     "data": {
      "text/plain": [
       "['a', 'e', 'i', 'o', 'u', 'y']"
      ]
     },
     "execution_count": 29,
     "metadata": {},
     "output_type": "execute_result"
    }
   ],
   "source": [
    "u.voyelles"
   ]
  },
  {
   "cell_type": "code",
   "execution_count": 30,
   "metadata": {
    "collapsed": false
   },
   "outputs": [
    {
     "data": {
      "text/plain": [
       "['b',\n",
       " 'c',\n",
       " 'd',\n",
       " 'f',\n",
       " 'g',\n",
       " 'h',\n",
       " 'j',\n",
       " 'k',\n",
       " 'l',\n",
       " 'm',\n",
       " 'n',\n",
       " 'p',\n",
       " 'q',\n",
       " 'r',\n",
       " 's',\n",
       " 't',\n",
       " 'v',\n",
       " 'w',\n",
       " 'x',\n",
       " 'z']"
      ]
     },
     "execution_count": 30,
     "metadata": {},
     "output_type": "execute_result"
    }
   ],
   "source": [
    "u.consonnes"
   ]
  },
  {
   "cell_type": "code",
   "execution_count": 31,
   "metadata": {
    "collapsed": false
   },
   "outputs": [
    {
     "data": {
      "text/plain": [
       "'abcdefghijklmnopqrstuvwxyz'"
      ]
     },
     "execution_count": 31,
     "metadata": {},
     "output_type": "execute_result"
    }
   ],
   "source": [
    "v = Alphabet_tri ()\n",
    "v.lettres"
   ]
  },
  {
   "cell_type": "code",
   "execution_count": 32,
   "metadata": {
    "collapsed": true
   },
   "outputs": [],
   "source": [
    "v.listes_vers_chaines ()"
   ]
  },
  {
   "cell_type": "code",
   "execution_count": 33,
   "metadata": {
    "collapsed": false
   },
   "outputs": [
    {
     "data": {
      "text/plain": [
       "'aeiouy'"
      ]
     },
     "execution_count": 33,
     "metadata": {},
     "output_type": "execute_result"
    }
   ],
   "source": [
    "v.voyelles_chaine"
   ]
  },
  {
   "cell_type": "code",
   "execution_count": 34,
   "metadata": {
    "collapsed": false
   },
   "outputs": [
    {
     "data": {
      "text/plain": [
       "'bcdfghjklmnpqrstvwxz'"
      ]
     },
     "execution_count": 34,
     "metadata": {},
     "output_type": "execute_result"
    }
   ],
   "source": [
    "v.consonnes_chaine"
   ]
  },
  {
   "cell_type": "markdown",
   "metadata": {},
   "source": [
    "## 5. Exercice récapitulatif sur les classes"
   ]
  },
  {
   "cell_type": "markdown",
   "metadata": {},
   "source": [
    "### Avec if \\__name\\__ == \"\\__main\\__\":"
   ]
  },
  {
   "cell_type": "code",
   "execution_count": 35,
   "metadata": {
    "collapsed": false
   },
   "outputs": [
    {
     "name": "stdout",
     "output_type": "stream",
     "text": [
      "Nombre 1 : 56\n",
      "Nombre 2 : 23\n",
      "56\n",
      "23\n",
      "25\n",
      "56 + 23 = 79\n",
      "56 X 23 = 1288\n"
     ]
    }
   ],
   "source": [
    "class Exemple (object) :\n",
    "    trois = 25 # attribut de classe\n",
    "    \n",
    "    def __init__ (self):\n",
    "        self.un = int (input(\"Nombre 1 : \")) # attribut d'objet\n",
    "        self.deux = int (input(\"Nombre 2 : \")) # attribut d'objet\n",
    "        self.trois = Exemple.trois # attribut d'objet dont la valeur est égale à l'attribut de classe\n",
    "        \n",
    "    def add (self):\n",
    "        print (self.un, \"+\",self.deux,\"=\",self.un+self.deux)\n",
    "        \n",
    "    def mult (self):\n",
    "        print (self.un, \"X\",self.deux,\"=\",self.un*self.deux)\n",
    "        \n",
    "if __name__ == \"__main__\" :\n",
    "    a = Exemple ()\n",
    "    print (a.un)\n",
    "    print (a.deux)\n",
    "    print (a.trois)\n",
    "    a.add ()\n",
    "    a.mult ()"
   ]
  },
  {
   "cell_type": "code",
   "execution_count": 36,
   "metadata": {
    "collapsed": false
   },
   "outputs": [
    {
     "data": {
      "text/plain": [
       "__main__.Exemple"
      ]
     },
     "execution_count": 36,
     "metadata": {},
     "output_type": "execute_result"
    }
   ],
   "source": [
    "type (a)"
   ]
  },
  {
   "cell_type": "code",
   "execution_count": 37,
   "metadata": {
    "collapsed": false
   },
   "outputs": [
    {
     "data": {
      "text/plain": [
       "56"
      ]
     },
     "execution_count": 37,
     "metadata": {},
     "output_type": "execute_result"
    }
   ],
   "source": [
    "a.un"
   ]
  },
  {
   "cell_type": "code",
   "execution_count": 38,
   "metadata": {
    "collapsed": true
   },
   "outputs": [],
   "source": [
    "a.un = 10 # changement de valeur pour a.un"
   ]
  },
  {
   "cell_type": "code",
   "execution_count": 39,
   "metadata": {
    "collapsed": false
   },
   "outputs": [
    {
     "data": {
      "text/plain": [
       "10"
      ]
     },
     "execution_count": 39,
     "metadata": {},
     "output_type": "execute_result"
    }
   ],
   "source": [
    "a.un"
   ]
  },
  {
   "cell_type": "code",
   "execution_count": 40,
   "metadata": {
    "collapsed": false
   },
   "outputs": [
    {
     "name": "stdout",
     "output_type": "stream",
     "text": [
      "10 + 23 = 33\n"
     ]
    }
   ],
   "source": [
    "a.add ()"
   ]
  },
  {
   "cell_type": "markdown",
   "metadata": {},
   "source": [
    "### Sans if \\__name\\__ == \"\\__main\\__\":"
   ]
  },
  {
   "cell_type": "code",
   "execution_count": 41,
   "metadata": {
    "collapsed": true
   },
   "outputs": [],
   "source": [
    "class Exemple (object) :\n",
    "    trois = 25 # attribut de classe\n",
    "    \n",
    "    def __init__ (self):\n",
    "        self.un = int (input(\"Nombre 1 : \")) # attribut d'objet\n",
    "        self.deux = int (input(\"Nombre 2 : \")) # attribut d'objet\n",
    "        self.trois = Exemple.trois # attribut d'objet dont la valeur est égale à l'attribut de classe\n",
    "        \n",
    "    def add (self):\n",
    "        print (self.un, \"+\",self.deux,\"=\",self.un+self.deux)\n",
    "        \n",
    "    def mult (self):\n",
    "        print (self.un, \"X\",self.deux,\"=\",self.un*self.deux)"
   ]
  },
  {
   "cell_type": "code",
   "execution_count": 42,
   "metadata": {
    "collapsed": false
   },
   "outputs": [
    {
     "name": "stdout",
     "output_type": "stream",
     "text": [
      "Nombre 1 : 85\n",
      "Nombre 2 : 21\n"
     ]
    }
   ],
   "source": [
    "b = Exemple ()"
   ]
  },
  {
   "cell_type": "code",
   "execution_count": 43,
   "metadata": {
    "collapsed": false
   },
   "outputs": [
    {
     "name": "stdout",
     "output_type": "stream",
     "text": [
      "85 + 21 = 106\n"
     ]
    }
   ],
   "source": [
    "b.add ()"
   ]
  },
  {
   "cell_type": "code",
   "execution_count": 44,
   "metadata": {
    "collapsed": false
   },
   "outputs": [
    {
     "name": "stdout",
     "output_type": "stream",
     "text": [
      "85 X 21 = 1785\n"
     ]
    }
   ],
   "source": [
    "b.mult ()"
   ]
  },
  {
   "cell_type": "markdown",
   "metadata": {},
   "source": [
    "### Procédure d'appel ou d'importation de la classe dans le script principal main.py"
   ]
  },
  {
   "cell_type": "markdown",
   "metadata": {},
   "source": [
    "##### Avec if \\__name\\__ == \"\\__main\\__\":"
   ]
  },
  {
   "cell_type": "code",
   "execution_count": 45,
   "metadata": {
    "collapsed": false
   },
   "outputs": [
    {
     "name": "stdout",
     "output_type": "stream",
     "text": [
      "Overwriting classe_exemple.py\n"
     ]
    }
   ],
   "source": [
    "%%writefile classe_exemple.py \n",
    "# écriture et enregistrement du script contenant la classe Exemple ()\n",
    "\n",
    "class Exemple (object) :\n",
    "    trois = 25 # attribut de classe\n",
    "    \n",
    "    def __init__ (self):\n",
    "        self.un = int (input(\"Nombre 1 : \")) # attribut d'objet\n",
    "        self.deux = int (input(\"Nombre 2 : \")) # attribut d'objet\n",
    "        self.trois = Exemple.trois # attribut d'objet dont la valeur est égale à l'attribut de classe\n",
    "        \n",
    "    def add (self):\n",
    "        print (self.un, \"+\",self.deux,\"=\",self.un+self.deux)\n",
    "        \n",
    "    def mult (self):\n",
    "        print (self.un, \"X\",self.deux,\"=\",self.un*self.deux)\n",
    "        \n",
    "if __name__ == \"__main__\" :\n",
    "    a = Exemple ()\n",
    "    print (a.un)\n",
    "    print (a.deux)\n",
    "    print (a.trois)\n",
    "    a.add ()\n",
    "    a.mult ()"
   ]
  },
  {
   "cell_type": "markdown",
   "metadata": {},
   "source": [
    "##### Script principal main.py"
   ]
  },
  {
   "cell_type": "code",
   "execution_count": 46,
   "metadata": {
    "collapsed": false
   },
   "outputs": [
    {
     "name": "stdout",
     "output_type": "stream",
     "text": [
      "Bonjour, vous êtes dans le programme principal\n"
     ]
    }
   ],
   "source": [
    "print (\"Bonjour, vous êtes dans le programme principal\")\n",
    "from classe_exemple import Exemple"
   ]
  },
  {
   "cell_type": "markdown",
   "metadata": {},
   "source": [
    "**Rien ne se passe ! Seul la première ligne de mon script s'exécute ... if \\__name\\__ == \"\\__main\\__\": ne fonctionne pas ou ne s'exécute pas ! C'est tout à fait normal ...\n",
    "Nous sommes dans un autre script, cette commande ne peut s'exécuter que si l'on exécute directement le script classe_exemple.py !!!!! Pour exécuter complétement le script via le principal (main.py), considérez le code suivant :**"
   ]
  },
  {
   "cell_type": "markdown",
   "metadata": {},
   "source": [
    "##### Script principal main.py (2)"
   ]
  },
  {
   "cell_type": "code",
   "execution_count": 47,
   "metadata": {
    "collapsed": false
   },
   "outputs": [
    {
     "name": "stdout",
     "output_type": "stream",
     "text": [
      "Bonjour, vous êtes dans le programme principal\n",
      "Nombre 1 : 32\n",
      "Nombre 2 : 65\n"
     ]
    }
   ],
   "source": [
    "print (\"Bonjour, vous êtes dans le programme principal\")\n",
    "from classe_exemple import Exemple\n",
    "c = Exemple ()"
   ]
  },
  {
   "cell_type": "markdown",
   "metadata": {},
   "source": [
    "##### Script principal main.py (3) - **Pour être complet !**"
   ]
  },
  {
   "cell_type": "code",
   "execution_count": 48,
   "metadata": {
    "collapsed": false
   },
   "outputs": [
    {
     "name": "stdout",
     "output_type": "stream",
     "text": [
      "Bonjour, vous êtes dans le programme principal\n",
      "Nombre 1 : 12\n",
      "Nombre 2 : 58\n",
      "12 + 58 = 70\n",
      "12 X 58 = 696\n"
     ]
    }
   ],
   "source": [
    "print (\"Bonjour, vous êtes dans le programme principal\")\n",
    "from classe_exemple import Exemple\n",
    "c = Exemple ()\n",
    "c.add ()\n",
    "c.mult ()"
   ]
  },
  {
   "cell_type": "markdown",
   "metadata": {},
   "source": [
    "##### Script principal main.py (4) - Essayez de comprendre le code et les exécutions qui suivent !"
   ]
  },
  {
   "cell_type": "code",
   "execution_count": 49,
   "metadata": {
    "collapsed": false
   },
   "outputs": [
    {
     "name": "stdout",
     "output_type": "stream",
     "text": [
      "Bonjour, vous êtes dans le programme principal\n",
      "Nombre 1 : 74\n",
      "Nombre 2 : 14\n",
      "74 + 14 = 88\n",
      "74 X 14 = 1036\n",
      "Quel est le problème ?\n",
      "Nombre 1 : 23\n",
      "Nombre 2 : 62\n",
      "23 + 62 = 85\n",
      "23 X 62 = 1426\n"
     ]
    }
   ],
   "source": [
    "print (\"Bonjour, vous êtes dans le programme principal\")\n",
    "from classe_exemple import Exemple\n",
    "c = Exemple ()\n",
    "c.add ()\n",
    "c.mult ()\n",
    "\n",
    "if __name__ == \"__main__\":\n",
    "    print (\"Quel est le problème ?\")\n",
    "    c = Exemple ()\n",
    "    c.add ()\n",
    "    c.mult ()"
   ]
  },
  {
   "cell_type": "code",
   "execution_count": 50,
   "metadata": {
    "collapsed": false
   },
   "outputs": [
    {
     "data": {
      "text/plain": [
       "23"
      ]
     },
     "execution_count": 50,
     "metadata": {},
     "output_type": "execute_result"
    }
   ],
   "source": [
    "c.un"
   ]
  }
 ],
 "metadata": {
  "kernelspec": {
   "display_name": "Python 3",
   "language": "python",
   "name": "python3"
  },
  "language_info": {
   "codemirror_mode": {
    "name": "ipython",
    "version": 3
   },
   "file_extension": ".py",
   "mimetype": "text/x-python",
   "name": "python",
   "nbconvert_exporter": "python",
   "pygments_lexer": "ipython3",
   "version": "3.5.1"
  },
  "toc": {
   "toc_cell": false,
   "toc_number_sections": true,
   "toc_section_display": "none",
   "toc_threshold": 6,
   "toc_window_display": false
  }
 },
 "nbformat": 4,
 "nbformat_minor": 0
}
