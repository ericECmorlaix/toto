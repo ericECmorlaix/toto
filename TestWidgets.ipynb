{
 "cells": [
  {
   "cell_type": "markdown",
   "metadata": {},
   "source": [
    "## Test de Widgets :"
   ]
  },
  {
   "cell_type": "code",
   "execution_count": 1,
   "metadata": {
    "collapsed": true
   },
   "outputs": [],
   "source": [
    "from ipywidgets import widgets"
   ]
  },
  {
   "cell_type": "markdown",
   "metadata": {},
   "source": [
    "Once you've imported that, there are various types of UI elements you can add. You can think of a widget as having two parts:\n",
    "\n",
    "- The UI/HTML element that renders in the output cell (e.g., a textbox)\n",
    "- An event handler that lets you specify what should happen when the value changes. In most cases, you'll want to define a Python function that gets called when the user changes the input, so you can update other elements of your notebook (e.g., visualizations) accordingly."
   ]
  },
  {
   "cell_type": "markdown",
   "metadata": {},
   "source": [
    "Text input: You can create a text input field by using the widgets.Text(). The .on_submit() listens to the activity and calls a function to handle the activity."
   ]
  },
  {
   "cell_type": "code",
   "execution_count": 2,
   "metadata": {},
   "outputs": [
    {
     "data": {
      "application/vnd.jupyter.widget-view+json": {
       "model_id": "af41e710b62540d9a8bb6aab9fdd6f94"
      }
     },
     "metadata": {},
     "output_type": "display_data"
    },
    {
     "name": "stdout",
     "output_type": "stream",
     "text": [
      "TOTO\n"
     ]
    }
   ],
   "source": [
    "texte = widgets.Text()\n",
    "\n",
    "def handle_submit(sender):\n",
    "    print(texte.value)\n",
    "\n",
    "texte.on_submit(handle_submit)\n",
    "\n",
    "texte"
   ]
  },
  {
   "cell_type": "markdown",
   "metadata": {},
   "source": [
    "Buttons: The button widget works similar to the text input one."
   ]
  },
  {
   "cell_type": "code",
   "execution_count": 3,
   "metadata": {},
   "outputs": [
    {
     "data": {
      "application/vnd.jupyter.widget-view+json": {
       "model_id": "364612223a3146e9b07a17ff0e8e8881"
      }
     },
     "metadata": {},
     "output_type": "display_data"
    },
    {
     "name": "stdout",
     "output_type": "stream",
     "text": [
      "Boutton cliqué.\n"
     ]
    }
   ],
   "source": [
    "boutton = widgets.Button(description=\"Cliquer ici\")\n",
    "\n",
    "def on_button_clicked(b):\n",
    "    print(\"Boutton cliqué.\")\n",
    "\n",
    "boutton.on_click(on_button_clicked)\n",
    "boutton"
   ]
  },
  {
   "cell_type": "code",
   "execution_count": 1,
   "metadata": {
    "collapsed": true
   },
   "outputs": [],
   "source": [
    "import numpy as np\n",
    "import matplotlib.pyplot as plt\n",
    "from IPython.display import display\n",
    "from numpy import arange, sin, pi\n",
    "%matplotlib inline"
   ]
  },
  {
   "cell_type": "markdown",
   "metadata": {},
   "source": [
    "Interact: Apart from the default widgets there is also \"interact\" which automatically generates a widget based on the arguments that you use."
   ]
  },
  {
   "cell_type": "code",
   "execution_count": 2,
   "metadata": {
    "collapsed": true
   },
   "outputs": [],
   "source": [
    "def f(x):\n",
    "    print(x)\n",
    "    interact(f, x=10)"
   ]
  },
  {
   "cell_type": "code",
   "execution_count": 3,
   "metadata": {},
   "outputs": [
    {
     "data": {
      "application/vnd.jupyter.widget-view+json": {
       "model_id": "d496a0f95f7747279b673c2f7883af8e"
      }
     },
     "metadata": {},
     "output_type": "display_data"
    },
    {
     "data": {
      "text/plain": [
       "<function __main__.pltsin>"
      ]
     },
     "execution_count": 3,
     "metadata": {},
     "output_type": "execute_result"
    }
   ],
   "source": [
    "from ipywidgets import *\n",
    "t = arange(0.0, 1.0, 0.01)\n",
    "\n",
    "def pltsin(f):\n",
    "    plt.plot(t,sin(2*pi*t*f))\n",
    "    plt.show()\n",
    "\n",
    "interact(pltsin, f=(1,10,0.1))"
   ]
  },
  {
   "cell_type": "code",
   "execution_count": null,
   "metadata": {
    "collapsed": true
   },
   "outputs": [],
   "source": []
  }
 ],
 "metadata": {
  "kernelspec": {
   "display_name": "Python 3",
   "language": "python",
   "name": "python3"
  },
  "language_info": {
   "codemirror_mode": {
    "name": "ipython",
    "version": 3
   },
   "file_extension": ".py",
   "mimetype": "text/x-python",
   "name": "python",
   "nbconvert_exporter": "python",
   "pygments_lexer": "ipython3",
   "version": "3.6.1"
  },
  "widgets": {
   "state": {
    "318eaad6688c4b238c4d2ed2d704fa7c": {
     "views": [
      {
       "cell_index": 4
      }
     ]
    },
    "6dbbe71d5b3f489f9b2b2d192b9f1e2c": {
     "views": [
      {
       "cell_index": 8
      }
     ]
    },
    "8b37efdb019946ddb107e4e622a178f7": {
     "views": [
      {
       "cell_index": 8
      }
     ]
    },
    "c6794028657547e1a0676d6aa1982654": {
     "views": [
      {
       "cell_index": 6
      }
     ]
    }
   },
   "version": "1.2.0"
  }
 },
 "nbformat": 4,
 "nbformat_minor": 2
}
