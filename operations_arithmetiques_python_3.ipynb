{
 "cells": [
  {
   "cell_type": "markdown",
   "metadata": {},
   "source": [
    "![Institut Cardinal Mercier](https://raw.githubusercontent.com/lecoinduprogrammeur/medias/master/icm.png)\n",
    "\n",
    "Professeur : Fabrice Dumont\n",
    "\n",
    "Institut Cardinal Mercier de Schaerbeek\n",
    "\n",
    "Classes de 5 & 6 TT Informatique\n",
    "\n",
    "*tutoriel réalisé sous jupyter ipython notebook en MARKDOWN et PYTHON 3*"
   ]
  },
  {
   "cell_type": "markdown",
   "metadata": {},
   "source": [
    "<H1 style=\"text-align:center\";>Les opérations arithmétiques en Python</H1>"
   ]
  },
  {
   "cell_type": "code",
   "execution_count": 1,
   "metadata": {
    "collapsed": false
   },
   "outputs": [
    {
     "data": {
      "text/plain": [
       "3"
      ]
     },
     "execution_count": 1,
     "metadata": {},
     "output_type": "execute_result"
    }
   ],
   "source": [
    "1 + 2"
   ]
  },
  {
   "cell_type": "code",
   "execution_count": 2,
   "metadata": {
    "collapsed": false
   },
   "outputs": [
    {
     "data": {
      "text/plain": [
       "3"
      ]
     },
     "execution_count": 2,
     "metadata": {},
     "output_type": "execute_result"
    }
   ],
   "source": [
    "5 - 2"
   ]
  },
  {
   "cell_type": "code",
   "execution_count": 3,
   "metadata": {
    "collapsed": false
   },
   "outputs": [
    {
     "data": {
      "text/plain": [
       "8"
      ]
     },
     "execution_count": 3,
     "metadata": {},
     "output_type": "execute_result"
    }
   ],
   "source": [
    "4 * 2"
   ]
  },
  {
   "cell_type": "code",
   "execution_count": 4,
   "metadata": {
    "collapsed": false
   },
   "outputs": [
    {
     "data": {
      "text/plain": [
       "2.6666666666666665"
      ]
     },
     "execution_count": 4,
     "metadata": {},
     "output_type": "execute_result"
    }
   ],
   "source": [
    "8 / 3 # division flottante"
   ]
  },
  {
   "cell_type": "code",
   "execution_count": 5,
   "metadata": {
    "collapsed": false
   },
   "outputs": [
    {
     "data": {
      "text/plain": [
       "2"
      ]
     },
     "execution_count": 5,
     "metadata": {},
     "output_type": "execute_result"
    }
   ],
   "source": [
    "8 // 3 # division entière"
   ]
  },
  {
   "cell_type": "code",
   "execution_count": 6,
   "metadata": {
    "collapsed": false
   },
   "outputs": [
    {
     "data": {
      "text/plain": [
       "2"
      ]
     },
     "execution_count": 6,
     "metadata": {},
     "output_type": "execute_result"
    }
   ],
   "source": [
    "8 % 3 # donne le reste de la division - opérateur \"modulo\""
   ]
  },
  {
   "cell_type": "code",
   "execution_count": 7,
   "metadata": {
    "collapsed": false
   },
   "outputs": [
    {
     "data": {
      "text/plain": [
       "8"
      ]
     },
     "execution_count": 7,
     "metadata": {},
     "output_type": "execute_result"
    }
   ],
   "source": [
    "2**3 # 2 puissance ou exposant 3"
   ]
  },
  {
   "cell_type": "markdown",
   "metadata": {},
   "source": [
    "### Pour info :"
   ]
  },
  {
   "cell_type": "code",
   "execution_count": 8,
   "metadata": {
    "collapsed": false
   },
   "outputs": [
    {
     "data": {
      "text/plain": [
       "2"
      ]
     },
     "execution_count": 8,
     "metadata": {},
     "output_type": "execute_result"
    }
   ],
   "source": [
    "round (2.3) # arrondit un nombre réel à la valeur inférieure jusqu'à .5"
   ]
  },
  {
   "cell_type": "code",
   "execution_count": 9,
   "metadata": {
    "collapsed": false
   },
   "outputs": [
    {
     "data": {
      "text/plain": [
       "2"
      ]
     },
     "execution_count": 9,
     "metadata": {},
     "output_type": "execute_result"
    }
   ],
   "source": [
    "round (2.5) # arrondit un nombre réel à la valeur inférieure jusqu'à .5"
   ]
  },
  {
   "cell_type": "code",
   "execution_count": 10,
   "metadata": {
    "collapsed": false
   },
   "outputs": [
    {
     "data": {
      "text/plain": [
       "3"
      ]
     },
     "execution_count": 10,
     "metadata": {},
     "output_type": "execute_result"
    }
   ],
   "source": [
    "round (2.7) # arrondit à la valeur supérieure"
   ]
  },
  {
   "cell_type": "code",
   "execution_count": 11,
   "metadata": {
    "collapsed": false
   },
   "outputs": [
    {
     "data": {
      "text/plain": [
       "2.333"
      ]
     },
     "execution_count": 11,
     "metadata": {},
     "output_type": "execute_result"
    }
   ],
   "source": [
    "round (2.333333333333333,3) # arrondit un réel à la décimale"
   ]
  },
  {
   "cell_type": "code",
   "execution_count": 12,
   "metadata": {
    "collapsed": false
   },
   "outputs": [
    {
     "data": {
      "text/plain": [
       "2.123"
      ]
     },
     "execution_count": 12,
     "metadata": {},
     "output_type": "execute_result"
    }
   ],
   "source": [
    "round (2.123456789,3) # arrondit un réel à la décimale"
   ]
  },
  {
   "cell_type": "code",
   "execution_count": 13,
   "metadata": {
    "collapsed": false
   },
   "outputs": [
    {
     "data": {
      "text/plain": [
       "2.124"
      ]
     },
     "execution_count": 13,
     "metadata": {},
     "output_type": "execute_result"
    }
   ],
   "source": [
    "round (2.123789,3) # arrondit un réel à la décimale supérieure"
   ]
  },
  {
   "cell_type": "code",
   "execution_count": 14,
   "metadata": {
    "collapsed": false
   },
   "outputs": [
    {
     "data": {
      "text/plain": [
       "2.001"
      ]
     },
     "execution_count": 14,
     "metadata": {},
     "output_type": "execute_result"
    }
   ],
   "source": [
    "round (2.0007,3)"
   ]
  },
  {
   "cell_type": "code",
   "execution_count": 15,
   "metadata": {
    "collapsed": false
   },
   "outputs": [
    {
     "data": {
      "text/plain": [
       "(2, 1)"
      ]
     },
     "execution_count": 15,
     "metadata": {},
     "output_type": "execute_result"
    }
   ],
   "source": [
    "divmod (5,2) # division de 5 par 2, renvoie le résultat entier et le reste"
   ]
  },
  {
   "cell_type": "code",
   "execution_count": 16,
   "metadata": {
    "collapsed": false
   },
   "outputs": [
    {
     "data": {
      "text/plain": [
       "(3, 0)"
      ]
     },
     "execution_count": 16,
     "metadata": {},
     "output_type": "execute_result"
    }
   ],
   "source": [
    "divmod (6,2)"
   ]
  },
  {
   "cell_type": "code",
   "execution_count": 17,
   "metadata": {
    "collapsed": false
   },
   "outputs": [
    {
     "data": {
      "text/plain": [
       "2"
      ]
     },
     "execution_count": 17,
     "metadata": {},
     "output_type": "execute_result"
    }
   ],
   "source": [
    "divmod (5,2)[0] # correspond à 5//2"
   ]
  },
  {
   "cell_type": "code",
   "execution_count": 18,
   "metadata": {
    "collapsed": false
   },
   "outputs": [
    {
     "data": {
      "text/plain": [
       "1"
      ]
     },
     "execution_count": 18,
     "metadata": {},
     "output_type": "execute_result"
    }
   ],
   "source": [
    "divmod (5,2)[1] # correspond à 5%2"
   ]
  },
  {
   "cell_type": "code",
   "execution_count": 19,
   "metadata": {
    "collapsed": false
   },
   "outputs": [
    {
     "data": {
      "text/plain": [
       "8"
      ]
     },
     "execution_count": 19,
     "metadata": {},
     "output_type": "execute_result"
    }
   ],
   "source": [
    "pow (2,3) # correspond à 2**3"
   ]
  },
  {
   "cell_type": "code",
   "execution_count": 20,
   "metadata": {
    "collapsed": false
   },
   "outputs": [
    {
     "data": {
      "text/plain": [
       "0"
      ]
     },
     "execution_count": 20,
     "metadata": {},
     "output_type": "execute_result"
    }
   ],
   "source": [
    "pow (2,3,1) # 2**3 = 8, 8%1 = 0 , le reste de la division de 8 par 1 est égale à 0"
   ]
  },
  {
   "cell_type": "code",
   "execution_count": 21,
   "metadata": {
    "collapsed": false
   },
   "outputs": [
    {
     "data": {
      "text/plain": [
       "0"
      ]
     },
     "execution_count": 21,
     "metadata": {},
     "output_type": "execute_result"
    }
   ],
   "source": [
    "pow (2,3,2)"
   ]
  },
  {
   "cell_type": "code",
   "execution_count": 22,
   "metadata": {
    "collapsed": false
   },
   "outputs": [
    {
     "data": {
      "text/plain": [
       "2"
      ]
     },
     "execution_count": 22,
     "metadata": {},
     "output_type": "execute_result"
    }
   ],
   "source": [
    "pow (2,3,3) # le reste de la division de 2**3 par 3 = 2"
   ]
  },
  {
   "cell_type": "code",
   "execution_count": 23,
   "metadata": {
    "collapsed": false
   },
   "outputs": [
    {
     "data": {
      "text/plain": [
       "5"
      ]
     },
     "execution_count": 23,
     "metadata": {},
     "output_type": "execute_result"
    }
   ],
   "source": [
    "max (5,3)"
   ]
  },
  {
   "cell_type": "code",
   "execution_count": 24,
   "metadata": {
    "collapsed": false
   },
   "outputs": [
    {
     "data": {
      "text/plain": [
       "5.2333654"
      ]
     },
     "execution_count": 24,
     "metadata": {},
     "output_type": "execute_result"
    }
   ],
   "source": [
    "max (5.2333654,5.2333621,5.2333651)"
   ]
  },
  {
   "cell_type": "code",
   "execution_count": 25,
   "metadata": {
    "collapsed": false
   },
   "outputs": [
    {
     "data": {
      "text/plain": [
       "5.2333621"
      ]
     },
     "execution_count": 25,
     "metadata": {},
     "output_type": "execute_result"
    }
   ],
   "source": [
    "min (5.2333654,5.2333621,5.2333651)"
   ]
  },
  {
   "cell_type": "markdown",
   "metadata": {},
   "source": [
    "### Troncature entre partie entière et partie décimale d'un nombre réel\n",
    "#### # la troncature de la partie décimale seule, par exemple, de 0.2365 à 0.24 se fait avec round ()\n",
    "##### Attention : round (2.3,0) --> 2.0"
   ]
  },
  {
   "cell_type": "markdown",
   "metadata": {},
   "source": [
    "#### Procédure étape par étape"
   ]
  },
  {
   "cell_type": "code",
   "execution_count": 26,
   "metadata": {
    "collapsed": true
   },
   "outputs": [],
   "source": [
    "x = 3.56"
   ]
  },
  {
   "cell_type": "code",
   "execution_count": 27,
   "metadata": {
    "collapsed": true
   },
   "outputs": [],
   "source": [
    "y = str (x) # conversion en chaîne de caractères"
   ]
  },
  {
   "cell_type": "code",
   "execution_count": 28,
   "metadata": {
    "collapsed": false
   },
   "outputs": [
    {
     "data": {
      "text/plain": [
       "'3.56'"
      ]
     },
     "execution_count": 28,
     "metadata": {},
     "output_type": "execute_result"
    }
   ],
   "source": [
    "y"
   ]
  },
  {
   "cell_type": "code",
   "execution_count": 29,
   "metadata": {
    "collapsed": false
   },
   "outputs": [
    {
     "name": "stdout",
     "output_type": "stream",
     "text": [
      "['3', '56']\n"
     ]
    },
    {
     "data": {
      "text/plain": [
       "list"
      ]
     },
     "execution_count": 29,
     "metadata": {},
     "output_type": "execute_result"
    }
   ],
   "source": [
    "z = y.split(\".\")\n",
    "print (z)\n",
    "type(z)"
   ]
  },
  {
   "cell_type": "code",
   "execution_count": 30,
   "metadata": {
    "collapsed": false
   },
   "outputs": [
    {
     "name": "stdout",
     "output_type": "stream",
     "text": [
      "3\n"
     ]
    },
    {
     "data": {
      "text/plain": [
       "str"
      ]
     },
     "execution_count": 30,
     "metadata": {},
     "output_type": "execute_result"
    }
   ],
   "source": [
    "entier = z[0]\n",
    "print (entier)\n",
    "type(entier)"
   ]
  },
  {
   "cell_type": "code",
   "execution_count": 31,
   "metadata": {
    "collapsed": false
   },
   "outputs": [
    {
     "name": "stdout",
     "output_type": "stream",
     "text": [
      "56\n"
     ]
    },
    {
     "data": {
      "text/plain": [
       "str"
      ]
     },
     "execution_count": 31,
     "metadata": {},
     "output_type": "execute_result"
    }
   ],
   "source": [
    "decimale = z[1]\n",
    "print (decimale)\n",
    "type (decimale)"
   ]
  },
  {
   "cell_type": "code",
   "execution_count": 32,
   "metadata": {
    "collapsed": false
   },
   "outputs": [
    {
     "name": "stdout",
     "output_type": "stream",
     "text": [
      "3\n"
     ]
    },
    {
     "data": {
      "text/plain": [
       "int"
      ]
     },
     "execution_count": 32,
     "metadata": {},
     "output_type": "execute_result"
    }
   ],
   "source": [
    "z1 = int(entier)\n",
    "print (z1)\n",
    "type(z1)"
   ]
  },
  {
   "cell_type": "code",
   "execution_count": 33,
   "metadata": {
    "collapsed": false
   },
   "outputs": [
    {
     "name": "stdout",
     "output_type": "stream",
     "text": [
      "0.56\n"
     ]
    },
    {
     "data": {
      "text/plain": [
       "str"
      ]
     },
     "execution_count": 33,
     "metadata": {},
     "output_type": "execute_result"
    }
   ],
   "source": [
    "z2 = \"0.\" + decimale\n",
    "print (z2)\n",
    "type (z2)"
   ]
  },
  {
   "cell_type": "code",
   "execution_count": 34,
   "metadata": {
    "collapsed": false
   },
   "outputs": [
    {
     "name": "stdout",
     "output_type": "stream",
     "text": [
      "0.56\n"
     ]
    },
    {
     "data": {
      "text/plain": [
       "float"
      ]
     },
     "execution_count": 34,
     "metadata": {},
     "output_type": "execute_result"
    }
   ],
   "source": [
    "z2 = float(z2)\n",
    "print (z2)\n",
    "type (z2)"
   ]
  },
  {
   "cell_type": "markdown",
   "metadata": {},
   "source": [
    "#### Tout cela dans un script :"
   ]
  },
  {
   "cell_type": "code",
   "execution_count": 35,
   "metadata": {
    "collapsed": false
   },
   "outputs": [
    {
     "name": "stdout",
     "output_type": "stream",
     "text": [
      "Veuillez entrer un nombre réel : 23.145\n",
      "La partie entière de ce nombre est :  23\n",
      "Son type est :  <class 'int'>\n",
      "La partie décimale de ce nombre est :  0.145\n",
      "Son type est :  <class 'float'>\n"
     ]
    }
   ],
   "source": [
    "nbre = float(input(\"Veuillez entrer un nombre réel : \"))\n",
    "nbre_chaine = str(nbre)\n",
    "nbre_liste = nbre_chaine.split(\".\")\n",
    "partie_entiere = int (nbre_liste[0])\n",
    "partie_decimale_chaine = \"0.\"+nbre_liste[1]\n",
    "partie_decimale_nbre = float (partie_decimale_chaine)\n",
    "print (\"La partie entière de ce nombre est : \", partie_entiere)\n",
    "print (\"Son type est : \", type(partie_entiere))\n",
    "print (\"La partie décimale de ce nombre est : \",partie_decimale_nbre)\n",
    "print (\"Son type est : \", type(partie_decimale_nbre))"
   ]
  },
  {
   "cell_type": "markdown",
   "metadata": {},
   "source": [
    "#### variante :"
   ]
  },
  {
   "cell_type": "code",
   "execution_count": 36,
   "metadata": {
    "collapsed": false
   },
   "outputs": [
    {
     "name": "stdout",
     "output_type": "stream",
     "text": [
      "Veuillez entrer un nombre réel : 56.8\n",
      "La partie entière de ce nombre est :  56\n",
      "Son type est :  <class 'int'>\n",
      "La partie décimale de ce nombre est :  0.8\n",
      "Son type est :  <class 'float'>\n"
     ]
    }
   ],
   "source": [
    "nbre = float(input(\"Veuillez entrer un nombre réel : \"))\n",
    "nbre_chaine = str(nbre)\n",
    "nbre_liste = nbre_chaine.split(\".\")\n",
    "partie_entiere = int (nbre_liste[0])\n",
    "partie_decimale_chaine = \".\"+nbre_liste[1] # le point étant reconnu lors de la conversion comme étant précédé de 0 unité\n",
    "partie_decimale_nbre = float (partie_decimale_chaine)\n",
    "print (\"La partie entière de ce nombre est : \", partie_entiere)\n",
    "print (\"Son type est : \", type(partie_entiere))\n",
    "print (\"La partie décimale de ce nombre est : \",partie_decimale_nbre)\n",
    "print (\"Son type est : \", type(partie_decimale_nbre))"
   ]
  },
  {
   "cell_type": "markdown",
   "metadata": {},
   "source": [
    "#### variante pour nombre positif ou négatif :"
   ]
  },
  {
   "cell_type": "raw",
   "metadata": {},
   "source": [
    "# Considérons les codes suivants :\n",
    ">>> b = -23.6\n",
    ">>> c = str (b)\n",
    ">>> c\n",
    "'-23.6'\n",
    ">>> d = c.split(\".\")\n",
    ">>> d\n",
    "['-23', '6']\n",
    ">>> d[0]\n",
    "'-23'\n",
    ">>> d[0][1:]\n",
    "'23'\n",
    ">>> "
   ]
  },
  {
   "cell_type": "code",
   "execution_count": 37,
   "metadata": {
    "collapsed": false
   },
   "outputs": [
    {
     "name": "stdout",
     "output_type": "stream",
     "text": [
      "Veuillez entrer un nombre réel : -45.32\n",
      "La partie entière de ce nombre est :  -45\n",
      "Son type est :  <class 'int'>\n",
      "La partie décimale de ce nombre est :  0.32\n",
      "Son type est :  <class 'float'>\n"
     ]
    }
   ],
   "source": [
    "nbre = float(input(\"Veuillez entrer un nombre réel : \"))\n",
    "nbre_chaine = str(nbre)\n",
    "nbre_liste = nbre_chaine.split(\".\")\n",
    "if nbre_liste[0][0]== \"-\":\n",
    "    partie_entiere = int (nbre_liste[0][1:])\n",
    "    partie_entiere = -partie_entiere\n",
    "else :\n",
    "    partie_entiere = int (nbre_liste[0])\n",
    "partie_decimale_chaine = \".\"+nbre_liste[1] \n",
    "partie_decimale_nbre = float (partie_decimale_chaine)\n",
    "print (\"La partie entière de ce nombre est : \", partie_entiere)\n",
    "print (\"Son type est : \", type(partie_entiere))\n",
    "print (\"La partie décimale de ce nombre est : \",partie_decimale_nbre)\n",
    "print (\"Son type est : \", type(partie_decimale_nbre))"
   ]
  },
  {
   "cell_type": "code",
   "execution_count": 38,
   "metadata": {
    "collapsed": false
   },
   "outputs": [
    {
     "name": "stdout",
     "output_type": "stream",
     "text": [
      "Veuillez entrer un nombre réel : 87.365\n",
      "La partie entière de ce nombre est :  87\n",
      "Son type est :  <class 'int'>\n",
      "La partie décimale de ce nombre est :  0.365\n",
      "Son type est :  <class 'float'>\n"
     ]
    }
   ],
   "source": [
    "nbre = float(input(\"Veuillez entrer un nombre réel : \"))\n",
    "nbre_chaine = str(nbre)\n",
    "nbre_liste = nbre_chaine.split(\".\")\n",
    "if nbre_liste[0][0]== \"-\":\n",
    "    partie_entiere = int (nbre_liste[0][1:])\n",
    "    partie_entiere = -partie_entiere\n",
    "else :\n",
    "    partie_entiere = int (nbre_liste[0])\n",
    "partie_decimale_chaine = \".\"+nbre_liste[1] \n",
    "partie_decimale_nbre = float (partie_decimale_chaine)\n",
    "print (\"La partie entière de ce nombre est : \", partie_entiere)\n",
    "print (\"Son type est : \", type(partie_entiere))\n",
    "print (\"La partie décimale de ce nombre est : \",partie_decimale_nbre)\n",
    "print (\"Son type est : \", type(partie_decimale_nbre))"
   ]
  }
 ],
 "metadata": {
  "kernelspec": {
   "display_name": "Python 3",
   "language": "python",
   "name": "python3"
  },
  "language_info": {
   "codemirror_mode": {
    "name": "ipython",
    "version": 3
   },
   "file_extension": ".py",
   "mimetype": "text/x-python",
   "name": "python",
   "nbconvert_exporter": "python",
   "pygments_lexer": "ipython3",
   "version": "3.5.1"
  }
 },
 "nbformat": 4,
 "nbformat_minor": 0
}
