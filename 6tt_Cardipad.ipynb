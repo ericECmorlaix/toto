{
 "cells": [
  {
   "cell_type": "markdown",
   "metadata": {
    "collapsed": true
   },
   "source": [
    "<H1 style=\"text-align:center\";>6TT Programmation - Cardipad - Juin 2016</H1>"
   ]
  },
  {
   "cell_type": "markdown",
   "metadata": {},
   "source": [
    "![Institut Cardinal Mercier](https://raw.githubusercontent.com/lecoinduprogrammeur/medias/master/icm.png)\n",
    "\n",
    "Professeur : Fabrice Dumont\n",
    "\n",
    "Institut Cardinal Mercier de Schaerbeek\n",
    "\n",
    "Classes de 5 & 6 TT Informatique\n",
    "\n",
    "*tutoriel réalisé sous jupyter ipython notebook en MARKDOWN et PYTHON 3*"
   ]
  },
  {
   "cell_type": "markdown",
   "metadata": {},
   "source": [
    "# CARDIPAD -- version 4 final -- evolution .01"
   ]
  },
  {
   "cell_type": "code",
   "execution_count": null,
   "metadata": {
    "collapsed": true
   },
   "outputs": [],
   "source": [
    "from tkinter import *\n",
    "from tkinter.scrolledtext import ScrolledText\n",
    "import tkinter.tix as Onglets\n",
    "from tkinter import filedialog \n",
    "from tkinter import messagebox \n",
    "import datetime\n",
    "\n",
    "fen = Onglets.Tk(className=\" Editeur de texte 6TT\")\n",
    "fen.geometry(str(fen.winfo_screenwidth())+\"x\"+str(fen.winfo_screenheight()))\n",
    "\n",
    "monBlocNotes = Onglets.NoteBook(fen)\n",
    "monBlocNotes.pack(side=LEFT, fill=Onglets.BOTH, expand=1, padx=5, pady=5)\n",
    "\n",
    "num_page = 0\n",
    "\n",
    "def commande_nouveau(event = None):\n",
    "    global num_page\n",
    "    global editeur\n",
    "    num_page = num_page+1\n",
    "    page1 = monBlocNotes.add(\"page\"+str(num_page), label = \"Onglet \"+str(num_page))\n",
    "    editeur = ScrolledText(page1)\n",
    "    editeur.pack (expand = 1, fill = Onglets.BOTH)\n",
    "    editeur.focus()\n",
    "\n",
    "def commande_ouvrir(event = None):\n",
    "        fichier = filedialog.askopenfile(parent=editeur ,mode='r',title='Sélectionner un fichier') \n",
    "        if fichier != None:\n",
    "            fichier_contenu = fichier.read() \n",
    "            editeur.insert('1.0',fichier_contenu) \n",
    "            fichier.close()\n",
    "\n",
    "def commande_sauver(event = None):\n",
    "        fichier = filedialog.asksaveasfile(mode='w', defaultextension=\".txt\", filetypes=[(\"Fichier Texte\",\".txt\"),(\"Tous Fichiers\",\".*\")], initialdir=\"dir\")\n",
    "        if fichier != None: \n",
    "                data_fichier = editeur.get('1.0', END+'-1c') \n",
    "                fichier.write(data_fichier) \n",
    "                fichier.close() \n",
    "\n",
    "def commande_sortir(event = None):\n",
    "        if messagebox.askokcancel(\"Quitter ?\", \"Voulez-vous vraiment quitter Cardipad ?\"):\n",
    "                fen.destroy() \n",
    "\n",
    "def commande_a_propos():\n",
    "        label = messagebox.showinfo(\"A propos\", \"Aplication graphique \\n Python 3 tkinter \\n 6TT Informatique\") \n",
    "\n",
    "def commande_ajout_signature():\n",
    "        a = datetime.datetime.now()\n",
    "        editeur.insert(END, \"{} \\n{}/{}/{} à {}:{}:{}\".\n",
    "                format(\"Fabrice Dumont\", a.day, a.month, a.year, a.hour,\n",
    "                a.minute, a.second))\n",
    "\n",
    "def commande_copier(event = None):\n",
    "    editeur.clipboard_clear()\n",
    "    text = editeur.get(\"sel.first\", \"sel.last\")\n",
    "    editeur.clipboard_append(text)\n",
    "\n",
    "def commande_couper(event = None):\n",
    "    editeur.clipboard_clear()\n",
    "    text = editeur.get(\"sel.first\", \"sel.last\")\n",
    "    editeur.clipboard_append(text)\n",
    "    editeur.delete(\"sel.first\", \"sel.last\")\n",
    "\n",
    "def commande_coller(event = None):\n",
    "    text = editeur.selection_get(selection = 'CLIPBOARD')\n",
    "    editeur.insert('insert', text)\n",
    "    \n",
    "def commande_select_tout(event = None):\n",
    "    editeur.tag_add(SEL, \"1.0\", END)\n",
    "    editeur.mark_set(INSERT, \"1.0\")\n",
    "    editeur.see(INSERT)\n",
    "\n",
    "\n",
    "    \n",
    "barredemenu = Menu(fen)\n",
    "fen.config(menu=barredemenu)\n",
    "\n",
    "fichiermenu = Menu(barredemenu, tearoff=0)\n",
    "barredemenu.add_cascade(label=\"Fichier\", menu=fichiermenu)\n",
    "fichiermenu.add_command(label=\"Nouveau\", command=commande_nouveau, accelerator = \"Ctrl + N\")\n",
    "fichiermenu.add_command(label=\"Ouvrir\", command=commande_ouvrir, accelerator = \"Ctrl + O\")\n",
    "fichiermenu.add_command(label=\"Sauver\", command=commande_sauver, accelerator = \"Ctrl + S\")\n",
    "fichiermenu.add_separator()\n",
    "fichiermenu.add_command(label=\"Sortir\", command=commande_sortir, accelerator = \"Alt + F4\")\n",
    "\n",
    "editionmenu = Menu(barredemenu, tearoff = 0)\n",
    "barredemenu.add_cascade(label = \"Edition\", menu = editionmenu)\n",
    "editionmenu.add_command(label = \"Tout selectionner\", command = commande_select_tout, accelerator = \"Ctrl + A\")\n",
    "editionmenu.add_command(label = \"Copier\", command = commande_copier, accelerator = \"Ctrl + C\")\n",
    "editionmenu.add_command(label = \"Couper\", command = commande_couper, accelerator = \"Ctrl + X\")\n",
    "editionmenu.add_command(label = \"Coller\", command = commande_coller, accelerator = \"Ctrl + V\")\n",
    "\n",
    "signature = Menu(barredemenu, tearoff = 0)\n",
    "barredemenu.add_cascade(label = 'Options', menu=signature)\n",
    "signature.add_command(label = \"Signature\", command = commande_ajout_signature)\n",
    "\n",
    "aidemenu = Menu(barredemenu, tearoff=0)\n",
    "barredemenu.add_cascade(label=\"Aide\", menu=aidemenu)\n",
    "aidemenu.add_command(label=\"A propos\", command=commande_a_propos)\n",
    "\n",
    "fen.mainloop ()\n"
   ]
  },
  {
   "cell_type": "markdown",
   "metadata": {},
   "source": [
    "# CARDIPAD --version 3 -- evolution"
   ]
  },
  {
   "cell_type": "code",
   "execution_count": 1,
   "metadata": {
    "collapsed": false
   },
   "outputs": [
    {
     "name": "stderr",
     "output_type": "stream",
     "text": [
      "Exception in Tkinter callback\n",
      "Traceback (most recent call last):\n",
      "  File \"C:\\Users\\blackodinson\\Anaconda3\\lib\\tkinter\\__init__.py\", line 1549, in __call__\n",
      "    return self.func(*args)\n",
      "  File \"<ipython-input-1-aec9bd23e6e3>\", line 21, in commande_nouveau\n",
      "    page2 = monBlocNotes.add(\"page\"+\"2\", label = \"Texte deux\")\n",
      "  File \"C:\\Users\\blackodinson\\Anaconda3\\lib\\tkinter\\tix.py\", line 1145, in add\n",
      "    self.tk.call(self._w, 'add', name, *self._options(cnf, kw))\n",
      "_tkinter.TclError: window name \"page2\" already exists in parent\n",
      "Exception in Tkinter callback\n",
      "Traceback (most recent call last):\n",
      "  File \"C:\\Users\\blackodinson\\Anaconda3\\lib\\tkinter\\__init__.py\", line 1549, in __call__\n",
      "    return self.func(*args)\n",
      "  File \"<ipython-input-1-aec9bd23e6e3>\", line 21, in commande_nouveau\n",
      "    page2 = monBlocNotes.add(\"page\"+\"2\", label = \"Texte deux\")\n",
      "  File \"C:\\Users\\blackodinson\\Anaconda3\\lib\\tkinter\\tix.py\", line 1145, in add\n",
      "    self.tk.call(self._w, 'add', name, *self._options(cnf, kw))\n",
      "_tkinter.TclError: window name \"page2\" already exists in parent\n",
      "Exception in Tkinter callback\n",
      "Traceback (most recent call last):\n",
      "  File \"C:\\Users\\blackodinson\\Anaconda3\\lib\\tkinter\\__init__.py\", line 1549, in __call__\n",
      "    return self.func(*args)\n",
      "  File \"<ipython-input-1-aec9bd23e6e3>\", line 21, in commande_nouveau\n",
      "    page2 = monBlocNotes.add(\"page\"+\"2\", label = \"Texte deux\")\n",
      "  File \"C:\\Users\\blackodinson\\Anaconda3\\lib\\tkinter\\tix.py\", line 1145, in add\n",
      "    self.tk.call(self._w, 'add', name, *self._options(cnf, kw))\n",
      "_tkinter.TclError: window name \"page2\" already exists in parent\n"
     ]
    }
   ],
   "source": [
    "from tkinter import *\n",
    "from tkinter.scrolledtext import ScrolledText\n",
    "import tkinter.tix as Onglets\n",
    "from tkinter import filedialog \n",
    "from tkinter import messagebox \n",
    "import datetime\n",
    "\n",
    "fen = Onglets.Tk(className=\" Editeur de texte 6TT\")\n",
    "fen.geometry(str(fen.winfo_screenwidth())+\"x\"+str(fen.winfo_screenheight()))\n",
    "\n",
    "monBlocNotes = Onglets.NoteBook(fen)\n",
    "\n",
    "page1 = monBlocNotes.add(\"page1\", label = \"Texte un\")\n",
    "editeur = ScrolledText(page1)\n",
    "editeur.pack (expand = 1, fill = Onglets.BOTH)\n",
    "editeur.focus()\n",
    "\n",
    "monBlocNotes.pack(side=LEFT, fill=Onglets.BOTH, expand=1, padx=5, pady=5)\n",
    "\n",
    "def commande_nouveau(event = None):\n",
    "    page2 = monBlocNotes.add(\"page\"+\"2\", label = \"Texte deux\")\n",
    "    editeur = ScrolledText(page2)\n",
    "    editeur.pack (expand = 1, fill = Onglets.BOTH)\n",
    "\n",
    "def commande_ouvrir(event = None):\n",
    "        fichier = filedialog.askopenfile(parent=fenetreprincipale ,mode='r',title='Sélectionner un fichier') \n",
    "        if fichier != None:\n",
    "            fichier_contenu = fichier.read() \n",
    "            editeur.insert('1.0',fichier_contenu) \n",
    "            fichier.close()\n",
    "\n",
    "def commande_sauver(event = None):\n",
    "        fichier = filedialog.asksaveasfile(mode='w', defaultextension=\".txt\", filetypes=[(\"Fichier Texte\",\".txt\"),(\"Tous Fichiers\",\".*\")], initialdir=\"dir\")\n",
    "        if fichier != None: \n",
    "                data_fichier = editeur.get('1.0', END+'-1c') \n",
    "                fichier.write(data_fichier) \n",
    "                fichier.close() \n",
    "\n",
    "def commande_sortir(event = None):\n",
    "        if messagebox.askokcancel(\"Quitter ?\", \"Voulez-vous vraiment quitter Cardipad ?\"):\n",
    "                fen.destroy() \n",
    "\n",
    "def commande_a_propos():\n",
    "        label = messagebox.showinfo(\"A propos\", \"Aplication graphique \\n Python 3 tkinter \\n 6TT Informatique\") \n",
    "\n",
    "def commande_ajout_signature():\n",
    "        a = datetime.datetime.now()\n",
    "        editeur.insert(END, \"{} \\n{}/{}/{} à {}:{}:{}\".\n",
    "                format(\"Fabrice Dumont\", a.day, a.month, a.year, a.hour,\n",
    "                a.minute, a.second))\n",
    "\n",
    "def commande_copier(event = None):\n",
    "    editeur.clipboard_clear()\n",
    "    text = editeur.get(\"sel.first\", \"sel.last\")\n",
    "    editeur.clipboard_append(text)\n",
    "\n",
    "def commande_couper(event = None):\n",
    "    editeur.clipboard_clear()\n",
    "    text = editeur.get(\"sel.first\", \"sel.last\")\n",
    "    editeur.clipboard_append(text)\n",
    "    editeur.delete(\"sel.first\", \"sel.last\")\n",
    "\n",
    "def commande_coller(event = None):\n",
    "    text = editeur.selection_get(selection = 'CLIPBOARD')\n",
    "    editeur.insert('insert', text)\n",
    "    \n",
    "def commande_select_tout(event = None):\n",
    "    editeur.tag_add(SEL, \"1.0\", END)\n",
    "    editeur.mark_set(INSERT, \"1.0\")\n",
    "    editeur.see(INSERT)\n",
    "    \n",
    "barredemenu = Menu(fen)\n",
    "fen.config(menu=barredemenu)\n",
    "\n",
    "fichiermenu = Menu(barredemenu, tearoff=0)\n",
    "barredemenu.add_cascade(label=\"Fichier\", menu=fichiermenu)\n",
    "fichiermenu.add_command(label=\"Nouveau\", command=commande_nouveau, accelerator = \"Ctrl + N\")\n",
    "fichiermenu.add_command(label=\"Ouvrir\", command=commande_ouvrir, accelerator = \"Ctrl + O\")\n",
    "fichiermenu.add_command(label=\"Sauver\", command=commande_sauver, accelerator = \"Ctrl + S\")\n",
    "fichiermenu.add_separator()\n",
    "fichiermenu.add_command(label=\"Sortir\", command=commande_sortir, accelerator = \"Alt + F4\")\n",
    "\n",
    "editionmenu = Menu(barredemenu, tearoff = 0)\n",
    "barredemenu.add_cascade(label = \"Edition\", menu = editionmenu)\n",
    "editionmenu.add_command(label = \"Tout selectionner\", command = commande_select_tout, accelerator = \"Ctrl + A\")\n",
    "editionmenu.add_command(label = \"Copier\", command = commande_copier, accelerator = \"Ctrl + C\")\n",
    "editionmenu.add_command(label = \"Couper\", command = commande_couper, accelerator = \"Ctrl + X\")\n",
    "editionmenu.add_command(label = \"Coller\", command = commande_coller, accelerator = \"Ctrl + V\")\n",
    "\n",
    "signature = Menu(barredemenu, tearoff = 0)\n",
    "barredemenu.add_cascade(label = 'Options', menu=signature)\n",
    "signature.add_command(label = \"Signature\", command = commande_ajout_signature)\n",
    "\n",
    "aidemenu = Menu(barredemenu, tearoff=0)\n",
    "barredemenu.add_cascade(label=\"Aide\", menu=aidemenu)\n",
    "aidemenu.add_command(label=\"A propos\", command=commande_a_propos)\n",
    "\n",
    "fen.mainloop ()\n"
   ]
  },
  {
   "cell_type": "markdown",
   "metadata": {},
   "source": [
    "## Questions :\n",
    "* Quelles sont les différences entre la version 3 provisoires et la version 4 ?\n",
    "* A l'exécution du script de la version 3, pourquoi ces messages d'erreurs ?\n",
    "* Dans la version 4, pourquoi \"global num_page\" et \"global editeur\" ?\n",
    "* A votre avis, si tkinter génère la classe \"Tk ()\", comment puis-je transformer le script de la version 4 en classe et méthodes à la lumière du script très simplifié suivant ?  (Songez aux classes mères et classes filles, l'héritage)  "
   ]
  },
  {
   "cell_type": "code",
   "execution_count": null,
   "metadata": {
    "collapsed": true
   },
   "outputs": [],
   "source": [
    "import tkinter\n",
    "\n",
    "class App_graphique(tkinter.Tk):\n",
    "    \n",
    "    def __init__(self,parent):\n",
    "        tkinter.Tk.__init__(self,parent)\n",
    "        self.parent = parent\n",
    "        self.initialisation()\n",
    "\n",
    "    def initialisation(self):\n",
    "        self.grid()\n",
    "\n",
    "        self.entry = tkinter.Entry(self)\n",
    "        self.entry.grid(column=0,row=0)\n",
    "\n",
    "        button = tkinter.Button(self,text=\"Click ici !\")\n",
    "        button.grid(column=1,row=0)\n",
    "\n",
    "        \n",
    "\n",
    "if __name__ == \"__main__\":\n",
    "    app = App_graphique(None)\n",
    "    app.title('mon application')\n",
    "    app.mainloop()"
   ]
  },
  {
   "cell_type": "markdown",
   "metadata": {},
   "source": [
    "## Pour rappel :"
   ]
  },
  {
   "cell_type": "code",
   "execution_count": null,
   "metadata": {
    "collapsed": true
   },
   "outputs": [],
   "source": [
    "from tkinter import *\n",
    "\n",
    "# Création de la fenêtre principale qui est bien-entendu de la classe tkinter.Tk ()\n",
    "Mafenetre = Tk()\n",
    "\n",
    "...\n",
    "\n"
   ]
  },
  {
   "cell_type": "code",
   "execution_count": null,
   "metadata": {
    "collapsed": true
   },
   "outputs": [],
   "source": [
    ">>> from tkinter import *\n",
    ">>> fen = Tk()\n",
    ">>> type (fen)\n",
    "<class 'tkinter.Tk'>\n",
    ">>> "
   ]
  },
  {
   "cell_type": "markdown",
   "metadata": {},
   "source": [
    "## Ensuite ... Si on cherche !"
   ]
  },
  {
   "cell_type": "code",
   "execution_count": null,
   "metadata": {
    "collapsed": true
   },
   "outputs": [],
   "source": [
    ">>> from tkinter import *\n",
    ">>> fen = Tk()\n",
    ">>> type (fen)\n",
    "<class 'tkinter.Tk'>\n",
    ">>> from tkinter import *\n",
    ">>> import tkinter.tix as Onglets\n",
    ">>> fen = Onglets.Tk(className=\" Editeur de texte 6TT\")\n",
    ">>> type (fen)\n",
    "<class 'tkinter.tix.Tk'>\n",
    ">>> monBlocNotes = Onglets.NoteBook(fen)\n",
    ">>> type (monBlocNotes)\n",
    "<class 'tkinter.tix.NoteBook'>\n",
    ">>> "
   ]
  },
  {
   "cell_type": "markdown",
   "metadata": {},
   "source": [
    "## Comment chercher de l'aide ?"
   ]
  },
  {
   "cell_type": "code",
   "execution_count": null,
   "metadata": {
    "collapsed": false
   },
   "outputs": [],
   "source": [
    "from tkinter import *\n",
    "help (\"tkinter\")"
   ]
  },
  {
   "cell_type": "code",
   "execution_count": null,
   "metadata": {
    "collapsed": true
   },
   "outputs": [],
   "source": [
    "from tkinter import *\n",
    "from tkinter.scrolledtext import ScrolledText\n",
    "help(\"tkinter.scrolledtext\")"
   ]
  },
  {
   "cell_type": "code",
   "execution_count": null,
   "metadata": {
    "collapsed": true
   },
   "outputs": [],
   "source": [
    "from tkinter import *\n",
    "import tkinter.tix as Onglets\n",
    "help (\"tkinter.tix\")"
   ]
  },
  {
   "cell_type": "markdown",
   "metadata": {},
   "source": [
    "**Astuce : pour chercher un terme précis dans l'aide Python, après la commande help (), copiez - collez tout le texte dans Notepad ++, puis CTRL+F**"
   ]
  }
 ],
 "metadata": {
  "kernelspec": {
   "display_name": "Python 3",
   "language": "python",
   "name": "python3"
  },
  "language_info": {
   "codemirror_mode": {
    "name": "ipython",
    "version": 3
   },
   "file_extension": ".py",
   "mimetype": "text/x-python",
   "name": "python",
   "nbconvert_exporter": "python",
   "pygments_lexer": "ipython3",
   "version": "3.5.1"
  }
 },
 "nbformat": 4,
 "nbformat_minor": 0
}
