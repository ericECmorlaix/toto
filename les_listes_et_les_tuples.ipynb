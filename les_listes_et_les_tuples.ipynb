{
 "cells": [
  {
   "cell_type": "markdown",
   "metadata": {},
   "source": [
    "![Institut Cardinal Mercier](https://raw.githubusercontent.com/lecoinduprogrammeur/medias/master/icm.png)\n",
    "\n",
    "Professeur : Fabrice Dumont\n",
    "\n",
    "Institut Cardinal Mercier de Schaerbeek\n",
    "\n",
    "Classes de 5 & 6 TT Informatique\n",
    "\n",
    "*tutoriel réalisé sous jupyter ipython notebook en MARKDOWN et PYTHON 3*"
   ]
  },
  {
   "cell_type": "markdown",
   "metadata": {},
   "source": [
    "# Les listes et les tuples en PYTHON 3"
   ]
  },
  {
   "cell_type": "markdown",
   "metadata": {},
   "source": [
    "#### liste1 =  liste vide"
   ]
  },
  {
   "cell_type": "code",
   "execution_count": 1,
   "metadata": {
    "collapsed": true
   },
   "outputs": [],
   "source": [
    "liste1 = []"
   ]
  },
  {
   "cell_type": "code",
   "execution_count": 2,
   "metadata": {
    "collapsed": false
   },
   "outputs": [
    {
     "data": {
      "text/plain": [
       "list"
      ]
     },
     "execution_count": 2,
     "metadata": {},
     "output_type": "execute_result"
    }
   ],
   "source": [
    "type (liste1)"
   ]
  },
  {
   "cell_type": "code",
   "execution_count": 3,
   "metadata": {
    "collapsed": false
   },
   "outputs": [
    {
     "data": {
      "text/plain": [
       "[]"
      ]
     },
     "execution_count": 3,
     "metadata": {},
     "output_type": "execute_result"
    }
   ],
   "source": [
    "liste1"
   ]
  },
  {
   "cell_type": "markdown",
   "metadata": {},
   "source": [
    "#### liste2 = liste de nombres"
   ]
  },
  {
   "cell_type": "code",
   "execution_count": 4,
   "metadata": {
    "collapsed": true
   },
   "outputs": [],
   "source": [
    "liste2 = [1,2,3,4,5,6,7,8,9,10]"
   ]
  },
  {
   "cell_type": "code",
   "execution_count": 5,
   "metadata": {
    "collapsed": false
   },
   "outputs": [
    {
     "data": {
      "text/plain": [
       "[1, 2, 3, 4, 5, 6, 7, 8, 9, 10]"
      ]
     },
     "execution_count": 5,
     "metadata": {},
     "output_type": "execute_result"
    }
   ],
   "source": [
    "liste2"
   ]
  },
  {
   "cell_type": "code",
   "execution_count": 6,
   "metadata": {
    "collapsed": false
   },
   "outputs": [
    {
     "name": "stdout",
     "output_type": "stream",
     "text": [
      "[1, 2, 3, 4, 5, 6, 7, 8, 9, 10]\n"
     ]
    }
   ],
   "source": [
    "print (liste2)"
   ]
  },
  {
   "cell_type": "markdown",
   "metadata": {},
   "source": [
    "#### liste2 / quelle est la valeur de cette liste à l'index 0 ?"
   ]
  },
  {
   "cell_type": "code",
   "execution_count": 7,
   "metadata": {
    "collapsed": false
   },
   "outputs": [
    {
     "data": {
      "text/plain": [
       "1"
      ]
     },
     "execution_count": 7,
     "metadata": {},
     "output_type": "execute_result"
    }
   ],
   "source": [
    "liste2[0]"
   ]
  },
  {
   "cell_type": "code",
   "execution_count": 8,
   "metadata": {
    "collapsed": false
   },
   "outputs": [
    {
     "data": {
      "text/plain": [
       "10"
      ]
     },
     "execution_count": 8,
     "metadata": {},
     "output_type": "execute_result"
    }
   ],
   "source": [
    "len (liste2)"
   ]
  },
  {
   "cell_type": "code",
   "execution_count": 9,
   "metadata": {
    "collapsed": false
   },
   "outputs": [
    {
     "data": {
      "text/plain": [
       "10"
      ]
     },
     "execution_count": 9,
     "metadata": {},
     "output_type": "execute_result"
    }
   ],
   "source": [
    "liste2[9]"
   ]
  },
  {
   "cell_type": "markdown",
   "metadata": {},
   "source": [
    "#### liste2 / quel est l'index de la valeur 2 ? "
   ]
  },
  {
   "cell_type": "code",
   "execution_count": 10,
   "metadata": {
    "collapsed": false
   },
   "outputs": [
    {
     "data": {
      "text/plain": [
       "1"
      ]
     },
     "execution_count": 10,
     "metadata": {},
     "output_type": "execute_result"
    }
   ],
   "source": [
    "liste2.index(2)"
   ]
  },
  {
   "cell_type": "markdown",
   "metadata": {},
   "source": [
    "#### liste3 = liste mixte int/string/list"
   ]
  },
  {
   "cell_type": "code",
   "execution_count": 11,
   "metadata": {
    "collapsed": true
   },
   "outputs": [],
   "source": [
    "liste3 = [1,\"a\",[\"aa\",\"bb\",\"cc\"],[]]"
   ]
  },
  {
   "cell_type": "code",
   "execution_count": 12,
   "metadata": {
    "collapsed": false
   },
   "outputs": [
    {
     "name": "stdout",
     "output_type": "stream",
     "text": [
      "1\n",
      "a\n",
      "['aa', 'bb', 'cc']\n",
      "[]\n",
      "bb\n"
     ]
    }
   ],
   "source": [
    "print (liste3[0])\n",
    "print (liste3[1])\n",
    "print (liste3[2])\n",
    "print (liste3[3])\n",
    "print (liste3[2][1])"
   ]
  },
  {
   "cell_type": "code",
   "execution_count": 13,
   "metadata": {
    "collapsed": false
   },
   "outputs": [
    {
     "name": "stdout",
     "output_type": "stream",
     "text": [
      "[1, 2, 3]\n"
     ]
    }
   ],
   "source": [
    "liste4 = [1,2,3]\n",
    "print (liste4)"
   ]
  },
  {
   "cell_type": "code",
   "execution_count": 14,
   "metadata": {
    "collapsed": false
   },
   "outputs": [
    {
     "name": "stdout",
     "output_type": "stream",
     "text": [
      "[1, 'ee', 3]\n"
     ]
    }
   ],
   "source": [
    "liste4[1] = \"ee\"\n",
    "print (liste4)"
   ]
  },
  {
   "cell_type": "markdown",
   "metadata": {},
   "source": [
    "#### la liste peut contenir des valeurs, des liste, des tuples, des dictionnaires, tout ....! Et des variables"
   ]
  },
  {
   "cell_type": "code",
   "execution_count": 15,
   "metadata": {
    "collapsed": false
   },
   "outputs": [
    {
     "name": "stdout",
     "output_type": "stream",
     "text": [
      "[[1, 2, 3], ['a', 'b', 'c'], [1, 2, 'trois', 4, (5, 6), [7, 8]]]\n"
     ]
    }
   ],
   "source": [
    "numList = [1,2,3]\n",
    "stringList = [\"a\",\"b\",\"c\"]\n",
    "mixedList = [1,2,\"trois\",4,(5,6),[7,8]]\n",
    "listList = [numList,stringList,mixedList]\n",
    "print (listList)"
   ]
  },
  {
   "cell_type": "code",
   "execution_count": 16,
   "metadata": {
    "collapsed": false
   },
   "outputs": [
    {
     "data": {
      "text/plain": [
       "8"
      ]
     },
     "execution_count": 16,
     "metadata": {},
     "output_type": "execute_result"
    }
   ],
   "source": [
    "listList[2][5][1]"
   ]
  },
  {
   "cell_type": "markdown",
   "metadata": {},
   "source": [
    "#### liste4 / j'ajoute une valeur à la fin de la liste "
   ]
  },
  {
   "cell_type": "code",
   "execution_count": 17,
   "metadata": {
    "collapsed": false
   },
   "outputs": [
    {
     "name": "stdout",
     "output_type": "stream",
     "text": [
      "[1, 'ee', 3, 'ff']\n"
     ]
    }
   ],
   "source": [
    "liste4.append (\"ff\")\n",
    "print (liste4)"
   ]
  },
  {
   "cell_type": "markdown",
   "metadata": {},
   "source": [
    "#### liste4 / j'ajoute une valeur qui sera indexée à l'emplacement 2 de la liste"
   ]
  },
  {
   "cell_type": "code",
   "execution_count": 18,
   "metadata": {
    "collapsed": false
   },
   "outputs": [
    {
     "name": "stdout",
     "output_type": "stream",
     "text": [
      "[1, 'ee', 'hh', 3, 'ff']\n"
     ]
    }
   ],
   "source": [
    "liste4.insert (2,'hh')\n",
    "print (liste4)"
   ]
  },
  {
   "cell_type": "markdown",
   "metadata": {},
   "source": [
    "#### liste4 / concaténation de listes"
   ]
  },
  {
   "cell_type": "code",
   "execution_count": 19,
   "metadata": {
    "collapsed": false
   },
   "outputs": [
    {
     "name": "stdout",
     "output_type": "stream",
     "text": [
      "[1, 'ee', 'hh', 3, 'ff', 1, 'a', ['aa', 'bb', 'cc'], []]\n"
     ]
    }
   ],
   "source": [
    "liste4.extend (liste3) # concatenation de listes\n",
    "print (liste4)"
   ]
  },
  {
   "cell_type": "markdown",
   "metadata": {},
   "source": [
    "#### liste4 / j'efface une valeur dans la liste avec del & remove"
   ]
  },
  {
   "cell_type": "code",
   "execution_count": 20,
   "metadata": {
    "collapsed": false
   },
   "outputs": [
    {
     "name": "stdout",
     "output_type": "stream",
     "text": [
      "[1, 'hh', 3, 'ff', 1, 'a', ['aa', 'bb', 'cc'], []]\n"
     ]
    }
   ],
   "source": [
    "del liste4[1]\n",
    "print (liste4)"
   ]
  },
  {
   "cell_type": "code",
   "execution_count": 21,
   "metadata": {
    "collapsed": false
   },
   "outputs": [
    {
     "name": "stdout",
     "output_type": "stream",
     "text": [
      "['hh', 3, 'ff', 1, 'a', ['aa', 'bb', 'cc'], []]\n"
     ]
    }
   ],
   "source": [
    "liste4.remove(1) # efface la premiere occurence\n",
    "print (liste4)"
   ]
  },
  {
   "cell_type": "code",
   "execution_count": 22,
   "metadata": {
    "collapsed": false
   },
   "outputs": [
    {
     "name": "stdout",
     "output_type": "stream",
     "text": [
      "[3, 'ff', 1, 'a', ['aa', 'bb', 'cc'], []]\n"
     ]
    }
   ],
   "source": [
    "liste4.pop(0)\n",
    "print (liste4)"
   ]
  },
  {
   "cell_type": "markdown",
   "metadata": {},
   "source": [
    "## Parcours de liste"
   ]
  },
  {
   "cell_type": "markdown",
   "metadata": {},
   "source": [
    "#### liste5 / parcours de liste avec la boucle while"
   ]
  },
  {
   "cell_type": "code",
   "execution_count": 23,
   "metadata": {
    "collapsed": false
   },
   "outputs": [
    {
     "name": "stdout",
     "output_type": "stream",
     "text": [
      "aa\n",
      "bb\n",
      "cc\n",
      "[1, 2, 3]\n"
     ]
    }
   ],
   "source": [
    "liste5 = [\"aa\",\"bb\",\"cc\",[1,2,3]]\n",
    "indice = 0\n",
    "while indice < len(liste5):\n",
    "    print (liste5[indice])\n",
    "    indice += 1"
   ]
  },
  {
   "cell_type": "markdown",
   "metadata": {},
   "source": [
    "#### liste5 / parcours de liste avec la boucle for"
   ]
  },
  {
   "cell_type": "code",
   "execution_count": 24,
   "metadata": {
    "collapsed": false
   },
   "outputs": [
    {
     "name": "stdout",
     "output_type": "stream",
     "text": [
      "aa\n",
      "bb\n",
      "cc\n",
      "[1, 2, 3]\n"
     ]
    }
   ],
   "source": [
    "liste5 = [\"aa\",\"bb\",\"cc\",[1,2,3]]\n",
    "for renard in liste5 :\n",
    "    print (renard)"
   ]
  },
  {
   "cell_type": "markdown",
   "metadata": {},
   "source": [
    "#### liste5 / parcours de liste avec la boucle for et la fonction enumerate"
   ]
  },
  {
   "cell_type": "code",
   "execution_count": 25,
   "metadata": {
    "collapsed": false
   },
   "outputs": [
    {
     "name": "stdout",
     "output_type": "stream",
     "text": [
      "(0, 'aa')\n",
      "(1, 'bb')\n",
      "(2, 'cc')\n",
      "(3, [1, 2, 3])\n"
     ]
    }
   ],
   "source": [
    "liste5 = [\"aa\",\"bb\",\"cc\",[1,2,3]]\n",
    "for renard in enumerate(liste5) : # enumerate renvoie des tuples indice,element de la liste\n",
    "    print (renard)"
   ]
  },
  {
   "cell_type": "code",
   "execution_count": 26,
   "metadata": {
    "collapsed": false
   },
   "outputs": [
    {
     "name": "stdout",
     "output_type": "stream",
     "text": [
      "Dans le 0 se trouve le aa\n",
      "Dans le 1 se trouve le bb\n",
      "Dans le 2 se trouve le cc\n",
      "Dans le 3 se trouve le [1, 2, 3]\n"
     ]
    }
   ],
   "source": [
    "liste5 = [\"aa\",\"bb\",\"cc\",[1,2,3]]\n",
    "for terrier,blaireau in enumerate(liste5) : \n",
    "    print (\"Dans le {} se trouve le {}\".format (terrier,blaireau))"
   ]
  },
  {
   "cell_type": "code",
   "execution_count": 27,
   "metadata": {
    "collapsed": false
   },
   "outputs": [
    {
     "name": "stdout",
     "output_type": "stream",
     "text": [
      "Le aa se trouve dans le 0  \n",
      "Le bb se trouve dans le 1  \n",
      "Le cc se trouve dans le 2  \n",
      "Le [1, 2, 3] se trouve dans le 3  \n"
     ]
    }
   ],
   "source": [
    "liste5 = [\"aa\",\"bb\",\"cc\",[1,2,3]]\n",
    "for terrier,blaireau in enumerate(liste5) : \n",
    "    print (\"Le {} se trouve dans le {}  \".format (blaireau,terrier))"
   ]
  },
  {
   "cell_type": "code",
   "execution_count": 28,
   "metadata": {
    "collapsed": false
   },
   "outputs": [
    {
     "name": "stdout",
     "output_type": "stream",
     "text": [
      "[1, 2, 4, 5, 7]\n"
     ]
    }
   ],
   "source": [
    "liste6 = [1,4,2,7,5]\n",
    "liste6.sort ()\n",
    "print (liste6)"
   ]
  },
  {
   "cell_type": "code",
   "execution_count": 29,
   "metadata": {
    "collapsed": false
   },
   "outputs": [
    {
     "name": "stdout",
     "output_type": "stream",
     "text": [
      "[5, 7, 2, 4, 1]\n"
     ]
    }
   ],
   "source": [
    "liste7 = [1,4,2,7,5]\n",
    "liste7.reverse ()\n",
    "print (liste7)"
   ]
  },
  {
   "cell_type": "markdown",
   "metadata": {},
   "source": [
    "#### listList / application et imbrication des codes"
   ]
  },
  {
   "cell_type": "code",
   "execution_count": 30,
   "metadata": {
    "collapsed": false
   },
   "outputs": [
    {
     "name": "stdout",
     "output_type": "stream",
     "text": [
      "Integer :  1\n",
      "Integer :  2\n",
      "Integer :  3\n",
      "String :  a\n",
      "String :  b\n",
      "String :  c\n",
      "Integer :  1\n",
      "Integer :  2\n",
      "String :  trois\n",
      "Integer :  4\n",
      "Tuple :  (5, 6)\n",
      "List :  [7, 8]\n"
     ]
    }
   ],
   "source": [
    "numList = [1,2,3]\n",
    "stringList = [\"a\",\"b\",\"c\"]\n",
    "mixedList = [1,2,\"trois\",4,(5,6),[7,8]]\n",
    "listList = [numList,stringList,mixedList]\n",
    "\n",
    "for a in listList :\n",
    "    for z in a :\n",
    "        if isinstance (z,int):\n",
    "            print (\"Integer : \",z)\n",
    "        if isinstance (z,str):\n",
    "            print (\"String : \", z)\n",
    "        if isinstance (z,list):\n",
    "            print (\"List : \",z)\n",
    "        if isinstance (z,tuple):\n",
    "            print (\"Tuple : \",z)"
   ]
  },
  {
   "cell_type": "code",
   "execution_count": 31,
   "metadata": {
    "collapsed": false
   },
   "outputs": [
    {
     "name": "stdout",
     "output_type": "stream",
     "text": [
      "List :  [1, 2, 3]\n",
      "  .Integer :  1\n",
      "  .Integer :  2\n",
      "  .Integer :  3\n",
      "List :  ['a', 'b', 'c']\n",
      "  .String :  a\n",
      "  .String :  b\n",
      "  .String :  c\n",
      "List :  [1, 2, 'trois', 4, (5, 6), [7, 8]]\n",
      "  .Integer :  1\n",
      "  .Integer :  2\n",
      "  .String :  trois\n",
      "  .Integer :  4\n",
      "  .Tuple :  (5, 6)\n",
      "  .List :  [7, 8]\n"
     ]
    }
   ],
   "source": [
    "numList = [1,2,3]\n",
    "stringList = [\"a\",\"b\",\"c\"]\n",
    "mixedList = [1,2,\"trois\",4,(5,6),[7,8]]\n",
    "listList = [numList,stringList,mixedList]\n",
    "\n",
    "for a in listList :\n",
    "    if isinstance (a,int):\n",
    "            print (\"Integer : \",a)\n",
    "    if isinstance (a,str):\n",
    "            print (\"String : \", a)\n",
    "    if isinstance (a,list):\n",
    "            print (\"List : \",a)\n",
    "    if isinstance (a,tuple):\n",
    "            print (\"Tuple : \",a)\n",
    "    for z in a :\n",
    "        if isinstance (z,int):\n",
    "            print (\"  .Integer : \",z)\n",
    "        if isinstance (z,str):\n",
    "            print (\"  .String : \", z)\n",
    "        if isinstance (z,list):\n",
    "            print (\"  .List : \",z)\n",
    "        if isinstance (z,tuple):\n",
    "            print (\"  .Tuple : \",z)"
   ]
  },
  {
   "cell_type": "markdown",
   "metadata": {},
   "source": [
    "#### 3 niveaux de parcours et analyse de listes et tuples\n",
    "\n",
    "for a in listList :\n",
    "\n",
    "        ...\n",
    "        for z in a :\n",
    "        \n",
    "                ...\n",
    "                \n",
    "                for x in z :\n",
    "                \n",
    "                        ..."
   ]
  },
  {
   "cell_type": "code",
   "execution_count": 32,
   "metadata": {
    "collapsed": false
   },
   "outputs": [
    {
     "name": "stdout",
     "output_type": "stream",
     "text": [
      "Dans listList se trouvent : \n",
      ".Integer :  10\n",
      ".String :  hello\n",
      ".List :  [1, 2, 3]\n",
      "  .Integer :  1\n",
      "  .Integer :  2\n",
      "  .Integer :  3\n",
      ".List :  ['a', 'b', 'c']\n",
      "  .String :  a\n",
      "  .String :  b\n",
      "  .String :  c\n",
      ".List :  [1, 2, 'trois', 4, (5, 6), [7, 8]]\n",
      "  .Integer :  1\n",
      "  .Integer :  2\n",
      "  .String :  trois\n",
      "  .Integer :  4\n",
      "  .Tuple :  (5, 6)\n",
      "    .Integer :  5\n",
      "    .Integer :  6\n",
      "  .List :  [7, 8]\n",
      "    .Integer :  7\n",
      "    .Integer :  8\n",
      ".Tuple :  (4, 'salut')\n",
      "  .Integer :  4\n",
      "  .String :  salut\n"
     ]
    }
   ],
   "source": [
    "varint = 10\n",
    "varstring = \"hello\"\n",
    "varTuple = (4,\"salut\")\n",
    "numList = [1,2,3]\n",
    "stringList = [\"a\",\"b\",\"c\"]\n",
    "mixedList = [1,2,\"trois\",4,(5,6),[7,8]]\n",
    "listList = [varint,varstring,numList,stringList,mixedList,varTuple]\n",
    "\n",
    "print (\"Dans listList se trouvent : \")\n",
    "for a in listList :\n",
    "    if isinstance (a,int):\n",
    "            print (\".Integer : \",a)\n",
    "    if isinstance (a,str):\n",
    "            print (\".String : \", a)\n",
    "    if isinstance (a,list):\n",
    "            print (\".List : \",a)\n",
    "            for z in a :\n",
    "                if isinstance (z,int):\n",
    "                    print (\"  .Integer : \",z)\n",
    "                if isinstance (z,str):\n",
    "                    print (\"  .String : \", z)\n",
    "                if isinstance (z,list):\n",
    "                    print (\"  .List : \",z)\n",
    "                    for x in z :\n",
    "                        if isinstance (x,int):\n",
    "                            print (\"    .Integer : \",x)\n",
    "                        if isinstance (x,str):\n",
    "                            print (\"    .String : \",x)\n",
    "                        if isinstance (x,list):\n",
    "                            print (\"    .List : \",x)\n",
    "                        if isinstance (x,tuple):\n",
    "                            print (\"    .Tuple : \",x)\n",
    "                if isinstance (z,tuple):\n",
    "                    print (\"  .Tuple : \",z)\n",
    "                    for x in z :\n",
    "                        if isinstance (x,int):\n",
    "                            print (\"    .Integer : \",x)\n",
    "                        if isinstance (x,str):\n",
    "                            print (\"    .String : \",x)\n",
    "                        if isinstance (x,list):\n",
    "                            print (\"    .List : \",x)\n",
    "                        if isinstance (x,tuple):\n",
    "                            print (\"    .Tuple : \",x)\n",
    "    if isinstance (a,tuple):\n",
    "            print (\".Tuple : \",a)\n",
    "            for z in a :\n",
    "                if isinstance (z,int):\n",
    "                    print (\"  .Integer : \",z)\n",
    "                if isinstance (z,str):\n",
    "                    print (\"  .String : \", z)\n",
    "                if isinstance (z,list):\n",
    "                    print (\"  .List : \",z)\n",
    "                    for x in z :\n",
    "                        if isinstance (x,int):\n",
    "                            print (\"    .Integer : \",x)\n",
    "                        if isinstance (x,str):\n",
    "                            print (\"    .String : \",x)\n",
    "                        if isinstance (x,list):\n",
    "                            print (\"    .List : \",x)\n",
    "                        if isinstance (x,tuple):\n",
    "                            print (\"    .Tuple : \",x)\n",
    "                if isinstance (z,tuple):\n",
    "                    print (\"  .Tuple : \",z)\n",
    "                    for x in z :\n",
    "                        if isinstance (x,int):\n",
    "                            print (\"    .Integer : \",x)\n",
    "                        if isinstance (x,str):\n",
    "                            print (\"    .String : \",x)\n",
    "                        if isinstance (x,list):\n",
    "                            print (\"    .List : \",x)\n",
    "                        if isinstance (x,tuple):\n",
    "                            print (\"    .Tuple : \",x)\n"
   ]
  },
  {
   "cell_type": "markdown",
   "metadata": {},
   "source": [
    "## Les tuples"
   ]
  },
  {
   "cell_type": "code",
   "execution_count": 33,
   "metadata": {
    "collapsed": false
   },
   "outputs": [
    {
     "name": "stdout",
     "output_type": "stream",
     "text": [
      "(1, 2, 3)\n"
     ]
    }
   ],
   "source": [
    "tuple1 = (1,2,3)\n",
    "print (tuple1)"
   ]
  },
  {
   "cell_type": "code",
   "execution_count": 34,
   "metadata": {
    "collapsed": false
   },
   "outputs": [
    {
     "data": {
      "text/plain": [
       "2"
      ]
     },
     "execution_count": 34,
     "metadata": {},
     "output_type": "execute_result"
    }
   ],
   "source": [
    "tuple1[1]"
   ]
  },
  {
   "cell_type": "markdown",
   "metadata": {},
   "source": [
    "#### On ne peut pas changer, ajouter, ... une valeur dans un tuple"
   ]
  },
  {
   "cell_type": "code",
   "execution_count": 35,
   "metadata": {
    "collapsed": false
   },
   "outputs": [
    {
     "ename": "TypeError",
     "evalue": "'tuple' object does not support item assignment",
     "output_type": "error",
     "traceback": [
      "\u001b[1;31m---------------------------------------------------------------------------\u001b[0m",
      "\u001b[1;31mTypeError\u001b[0m                                 Traceback (most recent call last)",
      "\u001b[1;32m<ipython-input-35-b465a3f0e6eb>\u001b[0m in \u001b[0;36m<module>\u001b[1;34m()\u001b[0m\n\u001b[1;32m----> 1\u001b[1;33m \u001b[0mtuple1\u001b[0m\u001b[1;33m[\u001b[0m\u001b[1;36m1\u001b[0m\u001b[1;33m]\u001b[0m\u001b[1;33m=\u001b[0m\u001b[1;36m4\u001b[0m \u001b[1;31m# ne fonctionnera pas\u001b[0m\u001b[1;33m\u001b[0m\u001b[0m\n\u001b[0m",
      "\u001b[1;31mTypeError\u001b[0m: 'tuple' object does not support item assignment"
     ]
    }
   ],
   "source": [
    "tuple1[1]=4 # ne fonctionnera pas"
   ]
  },
  {
   "cell_type": "markdown",
   "metadata": {},
   "source": [
    "#### ... à moins de le convertir en liste puis en tuple ! "
   ]
  },
  {
   "cell_type": "code",
   "execution_count": 36,
   "metadata": {
    "collapsed": false
   },
   "outputs": [
    {
     "name": "stdout",
     "output_type": "stream",
     "text": [
      "[1, 2, 3]\n"
     ]
    }
   ],
   "source": [
    "tuple2 = list(tuple1)\n",
    "print (tuple2)"
   ]
  },
  {
   "cell_type": "code",
   "execution_count": 37,
   "metadata": {
    "collapsed": false
   },
   "outputs": [
    {
     "name": "stdout",
     "output_type": "stream",
     "text": [
      "(1, 4, 3)\n"
     ]
    }
   ],
   "source": [
    "tuple2[1]=4\n",
    "tuple3 = tuple(tuple2)\n",
    "print (tuple3)"
   ]
  },
  {
   "cell_type": "markdown",
   "metadata": {},
   "source": [
    "#### Fractionnement d'une liste (tranche de liste ou \"slice\")"
   ]
  },
  {
   "cell_type": "code",
   "execution_count": 38,
   "metadata": {
    "collapsed": true
   },
   "outputs": [],
   "source": [
    "enfantsList = [\"Souane\",\"Jade\",\"Ayoub\",\"Sohaib\",\"Kristian\",\"Fabrice\",\"Noé\",\"Noah\"]"
   ]
  },
  {
   "cell_type": "code",
   "execution_count": 39,
   "metadata": {
    "collapsed": false
   },
   "outputs": [
    {
     "name": "stdout",
     "output_type": "stream",
     "text": [
      "8\n"
     ]
    }
   ],
   "source": [
    "nbreEnfants = len (enfantsList)\n",
    "print (nbreEnfants)"
   ]
  },
  {
   "cell_type": "code",
   "execution_count": 40,
   "metadata": {
    "collapsed": false
   },
   "outputs": [
    {
     "name": "stdout",
     "output_type": "stream",
     "text": [
      "4\n"
     ]
    }
   ],
   "source": [
    "moitieNbreEnfants = nbreEnfants//2\n",
    "print (moitieNbreEnfants)"
   ]
  },
  {
   "cell_type": "code",
   "execution_count": 41,
   "metadata": {
    "collapsed": false
   },
   "outputs": [
    {
     "name": "stdout",
     "output_type": "stream",
     "text": [
      "['Ayoub', 'Fabrice', 'Jade', 'Kristian', 'Noah', 'Noé', 'Sohaib', 'Souane']\n"
     ]
    }
   ],
   "source": [
    "enfantsList.sort ()\n",
    "print (enfantsList)"
   ]
  },
  {
   "cell_type": "code",
   "execution_count": 42,
   "metadata": {
    "collapsed": false
   },
   "outputs": [
    {
     "name": "stdout",
     "output_type": "stream",
     "text": [
      "['Ayoub', 'Fabrice', 'Jade', 'Kristian']\n"
     ]
    }
   ],
   "source": [
    "moitie1Groupe = enfantsList[:moitieNbreEnfants]\n",
    "print (moitie1Groupe)"
   ]
  },
  {
   "cell_type": "code",
   "execution_count": 43,
   "metadata": {
    "collapsed": false
   },
   "outputs": [
    {
     "name": "stdout",
     "output_type": "stream",
     "text": [
      "['Noah', 'Noé', 'Sohaib', 'Souane']\n"
     ]
    }
   ],
   "source": [
    "moitie2Groupe = enfantsList[moitieNbreEnfants:]\n",
    "print (moitie2Groupe)"
   ]
  }
 ],
 "metadata": {
  "kernelspec": {
   "display_name": "Python 3",
   "language": "python",
   "name": "python3"
  },
  "language_info": {
   "codemirror_mode": {
    "name": "ipython",
    "version": 3
   },
   "file_extension": ".py",
   "mimetype": "text/x-python",
   "name": "python",
   "nbconvert_exporter": "python",
   "pygments_lexer": "ipython3",
   "version": "3.5.1"
  }
 },
 "nbformat": 4,
 "nbformat_minor": 0
}
